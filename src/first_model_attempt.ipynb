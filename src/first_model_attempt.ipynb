{
 "cells": [
  {
   "cell_type": "code",
   "execution_count": 126,
   "metadata": {},
   "outputs": [
    {
     "name": "stdout",
     "output_type": "stream",
     "text": [
      "Found 384 images belonging to 4 classes.\n",
      "Found 67 images belonging to 4 classes.\n"
     ]
    }
   ],
   "source": [
    "import tensorflow as tf\n",
    "import keras_preprocessing\n",
    "from keras_preprocessing.image import ImageDataGenerator\n",
    "\n",
    "TRAINING_DIR = \"../dataset\"\n",
    "training_datagen = ImageDataGenerator(\n",
    "    rescale = 1./255,\n",
    "    rotation_range=40,\n",
    "    zoom_range=0.2,\n",
    "    horizontal_flip=True,\n",
    "    fill_mode='nearest',\n",
    "    validation_split=0.15)\n",
    "\n",
    "\n",
    "train_generator = training_datagen.flow_from_directory(\n",
    "    TRAINING_DIR,\n",
    "    target_size=(120, 120),\n",
    "    class_mode='categorical',\n",
    "    batch_size=16,\n",
    "    subset='training'\n",
    ")\n",
    "\n",
    "validation_generator = training_datagen.flow_from_directory(\n",
    "    TRAINING_DIR,\n",
    "    target_size=(120, 120),\n",
    "    class_mode='categorical',\n",
    "    batch_size=16,\n",
    "    subset='validation'\n",
    ")"
   ]
  },
  {
   "cell_type": "code",
   "execution_count": 142,
   "metadata": {},
   "outputs": [],
   "source": [
    "model = tf.keras.models.Sequential([\n",
    "    # Note the input shape is the desired size of the image 150x150 with 3 bytes color\n",
    "    # This is the first convolution\n",
    "    tf.keras.layers.Conv2D(64, (3,3), activation='relu', input_shape=(120, 120, 3)),\n",
    "    tf.keras.layers.MaxPooling2D(2, 2),\n",
    "    tf.keras.layers.Dropout(0.2),\n",
    "    # The second convolution\n",
    "    tf.keras.layers.Conv2D(64, (3,3), activation='relu'),\n",
    "    tf.keras.layers.MaxPooling2D(2,2),\n",
    "    tf.keras.layers.Dropout(0.2),\n",
    "    # The third convolution\n",
    "    tf.keras.layers.Conv2D(128, (3,3), activation='relu'),\n",
    "    tf.keras.layers.MaxPooling2D(2,2),\n",
    "    tf.keras.layers.Dropout(0.2),\n",
    "    # The fourth convolution\n",
    "    tf.keras.layers.Conv2D(128, (3,3), activation='relu'),\n",
    "    tf.keras.layers.MaxPooling2D(2,2),\n",
    "    tf.keras.layers.Dropout(0.2),\n",
    "    # Flatten the results to feed into a DNN\n",
    "    tf.keras.layers.Flatten(),\n",
    "    tf.keras.layers.Dropout(0.2),\n",
    "    # 512 neuron hidden layer\n",
    "    tf.keras.layers.Dense(512, activation='relu'),\n",
    "    tf.keras.layers.Dense(4, activation='softmax')\n",
    "])\n",
    "# model = tf.keras.Sequential([\n",
    "#     tf.keras.layers.Flatten(input_shape=(204, 136, 3)),\n",
    "#     tf.keras.layers.Dense(units=1),\n",
    "#     tf.keras.layers.Dense(4, activation='softmax')\n",
    "# ])"
   ]
  },
  {
   "cell_type": "code",
   "execution_count": 144,
   "metadata": {},
   "outputs": [
    {
     "name": "stdout",
     "output_type": "stream",
     "text": [
      "Model: \"sequential_12\"\n",
      "_________________________________________________________________\n",
      "Layer (type)                 Output Shape              Param #   \n",
      "=================================================================\n",
      "conv2d_50 (Conv2D)           (None, 118, 118, 64)      1792      \n",
      "_________________________________________________________________\n",
      "max_pooling2d_37 (MaxPooling (None, 59, 59, 64)        0         \n",
      "_________________________________________________________________\n",
      "dropout_18 (Dropout)         (None, 59, 59, 64)        0         \n",
      "_________________________________________________________________\n",
      "conv2d_51 (Conv2D)           (None, 57, 57, 64)        36928     \n",
      "_________________________________________________________________\n",
      "max_pooling2d_38 (MaxPooling (None, 28, 28, 64)        0         \n",
      "_________________________________________________________________\n",
      "dropout_19 (Dropout)         (None, 28, 28, 64)        0         \n",
      "_________________________________________________________________\n",
      "conv2d_52 (Conv2D)           (None, 26, 26, 128)       73856     \n",
      "_________________________________________________________________\n",
      "max_pooling2d_39 (MaxPooling (None, 13, 13, 128)       0         \n",
      "_________________________________________________________________\n",
      "dropout_20 (Dropout)         (None, 13, 13, 128)       0         \n",
      "_________________________________________________________________\n",
      "conv2d_53 (Conv2D)           (None, 11, 11, 128)       147584    \n",
      "_________________________________________________________________\n",
      "max_pooling2d_40 (MaxPooling (None, 5, 5, 128)         0         \n",
      "_________________________________________________________________\n",
      "dropout_21 (Dropout)         (None, 5, 5, 128)         0         \n",
      "_________________________________________________________________\n",
      "flatten_9 (Flatten)          (None, 3200)              0         \n",
      "_________________________________________________________________\n",
      "dropout_22 (Dropout)         (None, 3200)              0         \n",
      "_________________________________________________________________\n",
      "dense_21 (Dense)             (None, 512)               1638912   \n",
      "_________________________________________________________________\n",
      "dense_22 (Dense)             (None, 4)                 2052      \n",
      "=================================================================\n",
      "Total params: 1,901,124\n",
      "Trainable params: 1,901,124\n",
      "Non-trainable params: 0\n",
      "_________________________________________________________________\n"
     ]
    }
   ],
   "source": [
    "model.summary()\n",
    "\n",
    "model.compile(loss = 'categorical_crossentropy', optimizer='adam', metrics=['accuracy'])"
   ]
  },
  {
   "cell_type": "code",
   "execution_count": 145,
   "metadata": {},
   "outputs": [
    {
     "name": "stdout",
     "output_type": "stream",
     "text": [
      "WARNING:tensorflow:sample_weight modes were coerced from\n",
      "  ...\n",
      "    to  \n",
      "  ['...']\n",
      "WARNING:tensorflow:sample_weight modes were coerced from\n",
      "  ...\n",
      "    to  \n",
      "  ['...']\n",
      "Train for 24 steps, validate for 4 steps\n",
      "Epoch 1/60\n",
      "24/24 [==============================] - 14s 581ms/step - loss: 1.3316 - accuracy: 0.4375 - val_loss: 1.3507 - val_accuracy: 0.4688\n",
      "Epoch 2/60\n",
      "24/24 [==============================] - 13s 530ms/step - loss: 1.2966 - accuracy: 0.4427 - val_loss: 1.3051 - val_accuracy: 0.4688\n",
      "Epoch 3/60\n",
      "24/24 [==============================] - 13s 529ms/step - loss: 1.2788 - accuracy: 0.4609 - val_loss: 1.2949 - val_accuracy: 0.4688\n",
      "Epoch 4/60\n",
      "24/24 [==============================] - 13s 531ms/step - loss: 1.1552 - accuracy: 0.5234 - val_loss: 1.3225 - val_accuracy: 0.4688\n",
      "Epoch 5/60\n",
      "24/24 [==============================] - 13s 529ms/step - loss: 1.1626 - accuracy: 0.5469 - val_loss: 1.2688 - val_accuracy: 0.4688\n",
      "Epoch 6/60\n",
      "24/24 [==============================] - 13s 547ms/step - loss: 1.1033 - accuracy: 0.5469 - val_loss: 1.2997 - val_accuracy: 0.4688\n",
      "Epoch 7/60\n",
      "24/24 [==============================] - 13s 536ms/step - loss: 1.0922 - accuracy: 0.5469 - val_loss: 1.3363 - val_accuracy: 0.4688\n",
      "Epoch 8/60\n",
      "24/24 [==============================] - 13s 527ms/step - loss: 1.0749 - accuracy: 0.5443 - val_loss: 1.3505 - val_accuracy: 0.4688\n",
      "Epoch 9/60\n",
      "24/24 [==============================] - 13s 528ms/step - loss: 1.0649 - accuracy: 0.5573 - val_loss: 1.2863 - val_accuracy: 0.4688\n",
      "Epoch 10/60\n",
      "24/24 [==============================] - 13s 526ms/step - loss: 1.0731 - accuracy: 0.5599 - val_loss: 1.2834 - val_accuracy: 0.4688\n",
      "Epoch 11/60\n",
      "24/24 [==============================] - 13s 524ms/step - loss: 1.0582 - accuracy: 0.5495 - val_loss: 1.2894 - val_accuracy: 0.4688\n",
      "Epoch 12/60\n",
      "24/24 [==============================] - 13s 528ms/step - loss: 1.0413 - accuracy: 0.5599 - val_loss: 1.2743 - val_accuracy: 0.4688\n",
      "Epoch 13/60\n",
      "24/24 [==============================] - 13s 526ms/step - loss: 1.0237 - accuracy: 0.5495 - val_loss: 1.2678 - val_accuracy: 0.4688\n",
      "Epoch 14/60\n",
      "24/24 [==============================] - 14s 599ms/step - loss: 1.0216 - accuracy: 0.5599 - val_loss: 1.2681 - val_accuracy: 0.4688\n",
      "Epoch 15/60\n",
      "24/24 [==============================] - 55s 2s/step - loss: 1.0134 - accuracy: 0.5495 - val_loss: 1.2283 - val_accuracy: 0.4688\n",
      "Epoch 16/60\n",
      "24/24 [==============================] - 66s 3s/step - loss: 1.0051 - accuracy: 0.5625 - val_loss: 1.2415 - val_accuracy: 0.4844\n",
      "Epoch 17/60\n",
      "24/24 [==============================] - 38s 2s/step - loss: 0.9800 - accuracy: 0.5833 - val_loss: 1.2623 - val_accuracy: 0.5469\n",
      "Epoch 18/60\n",
      "24/24 [==============================] - 13s 531ms/step - loss: 1.0522 - accuracy: 0.5547 - val_loss: 1.2919 - val_accuracy: 0.5312\n",
      "Epoch 19/60\n",
      "24/24 [==============================] - 13s 535ms/step - loss: 1.1358 - accuracy: 0.5443 - val_loss: 1.2742 - val_accuracy: 0.5000\n",
      "Epoch 20/60\n",
      "24/24 [==============================] - 26s 1s/step - loss: 1.0370 - accuracy: 0.5599 - val_loss: 1.1558 - val_accuracy: 0.5938\n",
      "Epoch 21/60\n",
      "24/24 [==============================] - 65s 3s/step - loss: 0.9422 - accuracy: 0.5755 - val_loss: 1.0586 - val_accuracy: 0.5156\n",
      "Epoch 22/60\n",
      "24/24 [==============================] - 59s 2s/step - loss: 0.9209 - accuracy: 0.5859 - val_loss: 1.0337 - val_accuracy: 0.5625\n",
      "Epoch 23/60\n",
      "24/24 [==============================] - 59s 2s/step - loss: 0.9444 - accuracy: 0.5885 - val_loss: 1.0464 - val_accuracy: 0.5625\n",
      "Epoch 24/60\n",
      "24/24 [==============================] - 60s 3s/step - loss: 0.8973 - accuracy: 0.6016 - val_loss: 0.9684 - val_accuracy: 0.5625\n",
      "Epoch 25/60\n",
      "24/24 [==============================] - 13s 534ms/step - loss: 0.8188 - accuracy: 0.6120 - val_loss: 1.0717 - val_accuracy: 0.4844\n",
      "Epoch 26/60\n",
      "24/24 [==============================] - 13s 536ms/step - loss: 0.8507 - accuracy: 0.6198 - val_loss: 0.9521 - val_accuracy: 0.6719\n",
      "Epoch 27/60\n",
      "24/24 [==============================] - 15s 609ms/step - loss: 0.8737 - accuracy: 0.6146 - val_loss: 0.9979 - val_accuracy: 0.5625\n",
      "Epoch 28/60\n",
      "24/24 [==============================] - 54s 2s/step - loss: 0.8349 - accuracy: 0.6432 - val_loss: 1.1642 - val_accuracy: 0.4375\n",
      "Epoch 29/60\n",
      "24/24 [==============================] - 59s 2s/step - loss: 0.8835 - accuracy: 0.6172 - val_loss: 0.9193 - val_accuracy: 0.6094\n",
      "Epoch 30/60\n",
      "24/24 [==============================] - 66s 3s/step - loss: 0.8265 - accuracy: 0.6276 - val_loss: 1.0906 - val_accuracy: 0.4375\n",
      "Epoch 31/60\n",
      "24/24 [==============================] - 60s 2s/step - loss: 0.8257 - accuracy: 0.6667 - val_loss: 0.9462 - val_accuracy: 0.5938\n",
      "Epoch 32/60\n",
      "24/24 [==============================] - 29s 1s/step - loss: 0.7502 - accuracy: 0.6797 - val_loss: 0.8211 - val_accuracy: 0.6562\n",
      "Epoch 33/60\n",
      "24/24 [==============================] - 13s 533ms/step - loss: 0.7194 - accuracy: 0.6849 - val_loss: 0.8358 - val_accuracy: 0.7969\n",
      "Epoch 34/60\n",
      "24/24 [==============================] - 13s 533ms/step - loss: 0.7030 - accuracy: 0.6979 - val_loss: 0.7235 - val_accuracy: 0.7656\n",
      "Epoch 35/60\n",
      "24/24 [==============================] - 42s 2s/step - loss: 0.6877 - accuracy: 0.6771 - val_loss: 0.9641 - val_accuracy: 0.5469\n",
      "Epoch 36/60\n",
      "24/24 [==============================] - 59s 2s/step - loss: 0.8088 - accuracy: 0.6380 - val_loss: 0.9652 - val_accuracy: 0.5469\n",
      "Epoch 37/60\n",
      "24/24 [==============================] - 60s 3s/step - loss: 0.7919 - accuracy: 0.6589 - val_loss: 0.9937 - val_accuracy: 0.5781\n",
      "Epoch 38/60\n",
      "24/24 [==============================] - 69s 3s/step - loss: 0.7821 - accuracy: 0.6641 - val_loss: 0.7882 - val_accuracy: 0.7812\n",
      "Epoch 39/60\n",
      "24/24 [==============================] - 42s 2s/step - loss: 0.6929 - accuracy: 0.6927 - val_loss: 0.8603 - val_accuracy: 0.6562\n",
      "Epoch 40/60\n",
      "24/24 [==============================] - 13s 535ms/step - loss: 0.7380 - accuracy: 0.6641 - val_loss: 1.0561 - val_accuracy: 0.5000\n",
      "Epoch 41/60\n",
      "24/24 [==============================] - 13s 534ms/step - loss: 0.7357 - accuracy: 0.6823 - val_loss: 0.8386 - val_accuracy: 0.6562\n",
      "Epoch 42/60\n",
      "24/24 [==============================] - 24s 1s/step - loss: 0.6473 - accuracy: 0.7396 - val_loss: 0.7067 - val_accuracy: 0.7969\n",
      "Epoch 43/60\n",
      "24/24 [==============================] - 65s 3s/step - loss: 0.7334 - accuracy: 0.6771 - val_loss: 0.8440 - val_accuracy: 0.6250\n",
      "Epoch 44/60\n",
      "24/24 [==============================] - 65s 3s/step - loss: 0.6696 - accuracy: 0.7135 - val_loss: 0.7176 - val_accuracy: 0.8125\n",
      "Epoch 45/60\n",
      "24/24 [==============================] - 64s 3s/step - loss: 0.6119 - accuracy: 0.7500 - val_loss: 0.8756 - val_accuracy: 0.6719\n",
      "Epoch 46/60\n",
      "24/24 [==============================] - 55s 2s/step - loss: 0.6242 - accuracy: 0.7344 - val_loss: 0.8207 - val_accuracy: 0.7188\n",
      "Epoch 47/60\n",
      "24/24 [==============================] - 13s 544ms/step - loss: 0.5580 - accuracy: 0.7474 - val_loss: 0.8680 - val_accuracy: 0.6250\n",
      "Epoch 48/60\n",
      "24/24 [==============================] - 13s 543ms/step - loss: 0.6532 - accuracy: 0.7292 - val_loss: 0.9263 - val_accuracy: 0.6094\n",
      "Epoch 49/60\n",
      "24/24 [==============================] - 20s 852ms/step - loss: 0.6285 - accuracy: 0.7135 - val_loss: 0.8827 - val_accuracy: 0.6562\n",
      "Epoch 50/60\n",
      "24/24 [==============================] - 65s 3s/step - loss: 0.5578 - accuracy: 0.7630 - val_loss: 0.7724 - val_accuracy: 0.6719\n",
      "Epoch 51/60\n",
      "24/24 [==============================] - 69s 3s/step - loss: 0.6376 - accuracy: 0.7448 - val_loss: 0.8021 - val_accuracy: 0.6719\n",
      "Epoch 52/60\n",
      "24/24 [==============================] - 64s 3s/step - loss: 0.6335 - accuracy: 0.7188 - val_loss: 0.7073 - val_accuracy: 0.7656\n",
      "CPU times: user 46min 3s, sys: 23 s, total: 46min 26s\n",
      "Wall time: 29min 43s\n"
     ]
    }
   ],
   "source": [
    "%%time\n",
    "\n",
    "callbacks = [\n",
    "    tf.keras.callbacks.EarlyStopping(monitor='val_loss', min_delta=0, patience=10)\n",
    "]\n",
    "\n",
    "history = model.fit_generator(\n",
    "    train_generator,\n",
    "    epochs=60,\n",
    "    steps_per_epoch=train_generator.samples // 16,\n",
    "    validation_data=validation_generator, \n",
    "    validation_steps=validation_generator.samples // 16,\n",
    "    callbacks=callbacks,\n",
    ")\n"
   ]
  },
  {
   "cell_type": "code",
   "execution_count": 152,
   "metadata": {},
   "outputs": [],
   "source": [
    "model.save(\"cycle_classifier_proto.h5\")"
   ]
  },
  {
   "cell_type": "code",
   "execution_count": 147,
   "metadata": {},
   "outputs": [
    {
     "data": {
      "text/plain": [
       "Text(0.5, 1.0, 'Training and validation loss')"
      ]
     },
     "execution_count": 147,
     "metadata": {},
     "output_type": "execute_result"
    },
    {
     "data": {
      "image/png": "[encoded data removed]",
      "text/plain": [
       "<Figure size 432x288 with 1 Axes>"
      ]
     },
     "metadata": {
      "needs_background": "light"
     },
     "output_type": "display_data"
    },
    {
     "data": {
      "image/png": "[encoded data removed]",
      "text/plain": [
       "<Figure size 432x288 with 1 Axes>"
      ]
     },
     "metadata": {
      "needs_background": "light"
     },
     "output_type": "display_data"
    }
   ],
   "source": [
    "%matplotlib inline\n",
    "\n",
    "import matplotlib.pyplot as plt\n",
    "\n",
    "#-----------------------------------------------------------\n",
    "# Retrieve a list of list results on training and test data\n",
    "# sets for each training epoch\n",
    "#-----------------------------------------------------------\n",
    "acc      = history.history['accuracy']\n",
    "val_acc  = history.history['val_accuracy']\n",
    "loss     = history.history['loss']\n",
    "val_loss = history.history['val_loss']\n",
    "\n",
    "epochs   = range(len(acc)) # Get number of epochs\n",
    "\n",
    "#------------------------------------------------\n",
    "# Plot training and validation accuracy per epoch\n",
    "#------------------------------------------------\n",
    "plt.plot(epochs, acc)\n",
    "plt.plot(epochs, val_acc)\n",
    "plt.title('Training and validation accuracy')\n",
    "plt.figure()\n",
    "\n",
    "#------------------------------------------------\n",
    "# Plot training and validation loss per epoch\n",
    "#------------------------------------------------\n",
    "plt.plot(epochs, loss)\n",
    "plt.plot(epochs, val_loss)\n",
    "plt.title('Training and validation loss')"
   ]
  },
  {
   "cell_type": "code",
   "execution_count": 148,
   "metadata": {},
   "outputs": [],
   "source": [
    "from sklearn.metrics import classification_report, confusion_matrix\n",
    "import numpy as np\n",
    "\n",
    "Y_pred = model.predict_generator(validation_generator, validation_generator.samples // 16+1)\n",
    "y_pred = np.argmax(Y_pred, axis=1)"
   ]
  },
  {
   "cell_type": "code",
   "execution_count": 149,
   "metadata": {},
   "outputs": [
    {
     "name": "stdout",
     "output_type": "stream",
     "text": [
      "Confusion Matrix\n",
      "[[ 7  0  6  2]\n",
      " [ 2  1  4  0]\n",
      " [ 5  1 21  3]\n",
      " [ 3  1  6  5]]\n"
     ]
    }
   ],
   "source": [
    "print('Confusion Matrix')\n",
    "print(confusion_matrix(validation_generator.classes, y_pred))"
   ]
  },
  {
   "cell_type": "code",
   "execution_count": 151,
   "metadata": {},
   "outputs": [
    {
     "name": "stdout",
     "output_type": "stream",
     "text": [
      "Classification Report\n",
      "              precision    recall  f1-score   support\n",
      "\n",
      "       Autre       0.41      0.47      0.44        15\n",
      "   Organique       0.33      0.14      0.20         7\n",
      "  Recyclable       0.57      0.70      0.63        30\n",
      "       Verre       0.50      0.33      0.40        15\n",
      "\n",
      "    accuracy                           0.51        67\n",
      "   macro avg       0.45      0.41      0.42        67\n",
      "weighted avg       0.49      0.51      0.49        67\n",
      "\n"
     ]
    }
   ],
   "source": [
    "print('Classification Report')\n",
    "target_names = ['Autre', 'Organique', 'Recyclable', 'Verre']\n",
    "print(classification_report(validation_generator.classes, y_pred, target_names=target_names))"
   ]
  },
  {
   "cell_type": "markdown",
   "metadata": {},
   "source": [
    "Pistes d'améliorations rapides:\n",
    "- contrer le déséquilibre des classes (https://medium.com/analytics-vidhya/how-to-apply-data-augmentation-to-deal-with-unbalanced-datasets-in-20-lines-of-code-ada8521320c9)\n",
    "- utiliser du transfer learning pour commencer avec un modèle plus robuste et déjà entrainé (DenseNet, ResNet, VGG16, EfficientNet)\n",
    "- équilibrer le dataset en rajoutant/retirant des images"
   ]
  },
  {
   "cell_type": "code",
   "execution_count": 123,
   "metadata": {},
   "outputs": [],
   "source": [
    "model_DN121 = tf.keras.Sequential([tf.keras.applications.MobileNetV2(weights='imagenet',\n",
    "                                                                     input_shape=(120, 120, 3),\n",
    "                                                                     include_top=False,\n",
    "                                                                     pooling='max'\n",
    "                                                                    ),\n",
    "                                 tf.keras.layers.Dense(4, activation='softmax')])"
   ]
  },
  {
   "cell_type": "code",
   "execution_count": 124,
   "metadata": {},
   "outputs": [],
   "source": [
    "model_DN121.compile(loss = 'categorical_crossentropy', optimizer='adam', metrics=['accuracy'])"
   ]
  },
  {
   "cell_type": "code",
   "execution_count": 125,
   "metadata": {},
   "outputs": [],
   "source": [
    "def build_lrfn(lr_start=0.00001, lr_max=0.00005, \n",
    "               lr_min=0.00001, lr_rampup_epochs=3, \n",
    "               lr_sustain_epochs=0, lr_exp_decay=.8):\n",
    "    def lrfn(epoch):\n",
    "        if epoch < lr_rampup_epochs:\n",
    "            lr = (lr_max - lr_start) / lr_rampup_epochs * epoch + lr_start\n",
    "        elif epoch < lr_rampup_epochs + lr_sustain_epochs:\n",
    "            lr = lr_max\n",
    "        else:\n",
    "            lr = (lr_max - lr_min) *\\\n",
    "                 lr_exp_decay**(epoch - lr_rampup_epochs\\\n",
    "                                - lr_sustain_epochs) + lr_min\n",
    "        return lr\n",
    "    return lrfn\n",
    "\n",
    "lr_schedule = tf.keras.callbacks.LearningRateScheduler(build_lrfn(), verbose=1)"
   ]
  },
  {
   "cell_type": "code",
   "execution_count": 127,
   "metadata": {},
   "outputs": [
    {
     "name": "stdout",
     "output_type": "stream",
     "text": [
      "WARNING:tensorflow:sample_weight modes were coerced from\n",
      "  ...\n",
      "    to  \n",
      "  ['...']\n",
      "WARNING:tensorflow:sample_weight modes were coerced from\n",
      "  ...\n",
      "    to  \n",
      "  ['...']\n",
      "Train for 24 steps, validate for 4 steps\n",
      "\n",
      "Epoch 00001: LearningRateScheduler reducing learning rate to 1e-05.\n",
      "Epoch 1/15\n",
      "24/24 [==============================] - 63s 3s/step - loss: 4.2799 - accuracy: 0.2135 - val_loss: 4.8999 - val_accuracy: 0.1562\n",
      "\n",
      "Epoch 00002: LearningRateScheduler reducing learning rate to 2.3333333333333336e-05.\n",
      "Epoch 2/15\n",
      "24/24 [==============================] - 13s 538ms/step - loss: 2.7172 - accuracy: 0.3594 - val_loss: 4.8779 - val_accuracy: 0.1094\n",
      "\n",
      "Epoch 00003: LearningRateScheduler reducing learning rate to 3.666666666666667e-05.\n",
      "Epoch 3/15\n",
      "24/24 [==============================] - 13s 542ms/step - loss: 1.6043 - accuracy: 0.5365 - val_loss: 5.5854 - val_accuracy: 0.1562\n",
      "\n",
      "Epoch 00004: LearningRateScheduler reducing learning rate to 5e-05.\n",
      "Epoch 4/15\n",
      "24/24 [==============================] - 32s 1s/step - loss: 1.1172 - accuracy: 0.6745 - val_loss: 5.7092 - val_accuracy: 0.0938\n",
      "\n",
      "Epoch 00005: LearningRateScheduler reducing learning rate to 4.2000000000000004e-05.\n",
      "Epoch 5/15\n",
      "24/24 [==============================] - 68s 3s/step - loss: 0.9428 - accuracy: 0.7422 - val_loss: 6.1232 - val_accuracy: 0.1094\n",
      "\n",
      "Epoch 00006: LearningRateScheduler reducing learning rate to 3.5600000000000005e-05.\n",
      "Epoch 6/15\n",
      "24/24 [==============================] - 73s 3s/step - loss: 0.9247 - accuracy: 0.7448 - val_loss: 5.5001 - val_accuracy: 0.1562\n",
      "\n",
      "Epoch 00007: LearningRateScheduler reducing learning rate to 3.0480000000000006e-05.\n",
      "Epoch 7/15\n",
      "24/24 [==============================] - 65s 3s/step - loss: 0.8016 - accuracy: 0.7500 - val_loss: 5.9128 - val_accuracy: 0.1250\n",
      "\n",
      "Epoch 00008: LearningRateScheduler reducing learning rate to 2.6384000000000004e-05.\n",
      "Epoch 8/15\n",
      "24/24 [==============================] - 33s 1s/step - loss: 0.7232 - accuracy: 0.7786 - val_loss: 5.9891 - val_accuracy: 0.0781\n",
      "\n",
      "Epoch 00009: LearningRateScheduler reducing learning rate to 2.3107200000000005e-05.\n",
      "Epoch 9/15\n",
      "24/24 [==============================] - 13s 529ms/step - loss: 0.6199 - accuracy: 0.7943 - val_loss: 6.1687 - val_accuracy: 0.0938\n",
      "\n",
      "Epoch 00010: LearningRateScheduler reducing learning rate to 2.0485760000000004e-05.\n",
      "Epoch 10/15\n",
      "24/24 [==============================] - 13s 529ms/step - loss: 0.6221 - accuracy: 0.8359 - val_loss: 6.1342 - val_accuracy: 0.0781\n",
      "\n",
      "Epoch 00011: LearningRateScheduler reducing learning rate to 1.8388608000000004e-05.\n",
      "Epoch 11/15\n",
      "24/24 [==============================] - 19s 778ms/step - loss: 0.5648 - accuracy: 0.8307 - val_loss: 6.6213 - val_accuracy: 0.0781\n",
      "\n",
      "Epoch 00012: LearningRateScheduler reducing learning rate to 1.6710886400000004e-05.\n",
      "Epoch 12/15\n",
      "24/24 [==============================] - 62s 3s/step - loss: 0.4770 - accuracy: 0.8411 - val_loss: 6.5684 - val_accuracy: 0.0938\n",
      "\n",
      "Epoch 00013: LearningRateScheduler reducing learning rate to 1.5368709120000003e-05.\n",
      "Epoch 13/15\n",
      "24/24 [==============================] - 62s 3s/step - loss: 0.5005 - accuracy: 0.8490 - val_loss: 6.0486 - val_accuracy: 0.0781\n",
      "\n",
      "Epoch 00014: LearningRateScheduler reducing learning rate to 1.4294967296000005e-05.\n",
      "Epoch 14/15\n",
      "24/24 [==============================] - 68s 3s/step - loss: 0.4598 - accuracy: 0.8359 - val_loss: 6.5345 - val_accuracy: 0.0781\n",
      "\n",
      "Epoch 00015: LearningRateScheduler reducing learning rate to 1.3435973836800004e-05.\n",
      "Epoch 15/15\n",
      "24/24 [==============================] - 57s 2s/step - loss: 0.4804 - accuracy: 0.8490 - val_loss: 6.6924 - val_accuracy: 0.0781\n",
      "CPU times: user 13min 58s, sys: 16.4 s, total: 14min 14s\n",
      "Wall time: 10min 55s\n"
     ]
    }
   ],
   "source": [
    "%%time\n",
    "history = model_DN121.fit_generator(\n",
    "    train_generator,\n",
    "    epochs=15,\n",
    "    steps_per_epoch=train_generator.samples // 16,\n",
    "    validation_data=validation_generator, \n",
    "    validation_steps=validation_generator.samples // 16,\n",
    "    callbacks=[lr_schedule],\n",
    ")"
   ]
  },
  {
   "cell_type": "code",
   "execution_count": 20,
   "metadata": {},
   "outputs": [],
   "source": [
    "model_DN121.save(\"cycle_classifier_DN121.h5\")"
   ]
  },
  {
   "cell_type": "code",
   "execution_count": 128,
   "metadata": {},
   "outputs": [
    {
     "data": {
      "text/plain": [
       "Text(0.5, 1.0, 'Training and validation loss')"
      ]
     },
     "execution_count": 128,
     "metadata": {},
     "output_type": "execute_result"
    },
    {
     "data": {
      "image/png": "[encoded data removed]",
      "text/plain": [
       "<Figure size 432x288 with 1 Axes>"
      ]
     },
     "metadata": {
      "needs_background": "light"
     },
     "output_type": "display_data"
    },
    {
     "data": {
      "image/png": "[encoded data removed]",
      "text/plain": [
       "<Figure size 432x288 with 1 Axes>"
      ]
     },
     "metadata": {
      "needs_background": "light"
     },
     "output_type": "display_data"
    }
   ],
   "source": [
    "%matplotlib inline\n",
    "\n",
    "import matplotlib.pyplot as plt\n",
    "\n",
    "#-----------------------------------------------------------\n",
    "# Retrieve a list of list results on training and test data\n",
    "# sets for each training epoch\n",
    "#-----------------------------------------------------------\n",
    "acc      = history.history['accuracy']\n",
    "val_acc  = history.history['val_accuracy']\n",
    "loss     = history.history['loss']\n",
    "val_loss = history.history['val_loss']\n",
    "\n",
    "epochs   = range(len(acc)) # Get number of epochs\n",
    "\n",
    "#------------------------------------------------\n",
    "# Plot training and validation accuracy per epoch\n",
    "#------------------------------------------------\n",
    "plt.plot(epochs, acc)\n",
    "plt.plot(epochs, val_acc)\n",
    "plt.title('Training and validation accuracy')\n",
    "plt.figure()\n",
    "\n",
    "#------------------------------------------------\n",
    "# Plot training and validation loss per epoch\n",
    "#------------------------------------------------\n",
    "plt.plot(epochs, loss)\n",
    "plt.plot(epochs, val_loss)\n",
    "plt.title('Training and validation loss')"
   ]
  },
  {
   "cell_type": "code",
   "execution_count": 23,
   "metadata": {},
   "outputs": [
    {
     "name": "stdout",
     "output_type": "stream",
     "text": [
      "Confusion Matrix\n",
      "[[2 2 4 2]\n",
      " [0 1 2 2]\n",
      " [6 1 6 7]\n",
      " [4 1 4 1]]\n",
      "Classification Report\n",
      "              precision    recall  f1-score   support\n",
      "\n",
      "       Autre       0.17      0.20      0.18        10\n",
      "   Organique       0.20      0.20      0.20         5\n",
      "  Recyclable       0.38      0.30      0.33        20\n",
      "       Verre       0.08      0.10      0.09        10\n",
      "\n",
      "    accuracy                           0.22        45\n",
      "   macro avg       0.21      0.20      0.20        45\n",
      "weighted avg       0.24      0.22      0.23        45\n",
      "\n"
     ]
    }
   ],
   "source": [
    "from sklearn.metrics import classification_report, confusion_matrix\n",
    "import numpy as np\n",
    "\n",
    "Y_pred = model_DN121.predict_generator(validation_generator, validation_generator.samples // 16+1)\n",
    "y_pred = np.argmax(Y_pred, axis=1)\n",
    "\n",
    "print('Confusion Matrix')\n",
    "print(confusion_matrix(validation_generator.classes, y_pred))\n",
    "\n",
    "print('Classification Report')\n",
    "target_names = ['Autre', 'Organique', 'Recyclable', 'Verre']\n",
    "print(classification_report(validation_generator.classes, y_pred, target_names=target_names))"
   ]
  },
  {
   "cell_type": "code",
   "execution_count": 2,
   "metadata": {},
   "outputs": [],
   "source": [
    "model = tf.keras.models.load_model(\"cycle_classifier_proto.h5\")"
   ]
  },
  {
   "cell_type": "code",
   "execution_count": 3,
   "metadata": {},
   "outputs": [
    {
     "data": {
      "text/plain": [
       "7608064"
      ]
     },
     "execution_count": 3,
     "metadata": {},
     "output_type": "execute_result"
    }
   ],
   "source": [
    "converter = tf.lite.TFLiteConverter.from_keras_model(model)\n",
    "tflite_model = converter.convert()\n",
    "open(\"converted_model.tflite\", \"wb\").write(tflite_model)"
   ]
  },
  {
   "cell_type": "code",
   "execution_count": 6,
   "metadata": {},
   "outputs": [],
   "source": [
    "from PIL import Image\n",
    "import tensorflow as tf\n",
    "import numpy as np"
   ]
  },
  {
   "cell_type": "code",
   "execution_count": 4,
   "metadata": {},
   "outputs": [],
   "source": [
    "interpreter = tf.lite.Interpreter(model_path=\"converted_model.tflite\")\n",
    "interpreter.allocate_tensors()"
   ]
  },
  {
   "cell_type": "code",
   "execution_count": 26,
   "metadata": {},
   "outputs": [],
   "source": [
    "im = Image.open('../dataset/verre/biere_2.jpg')\n",
    "im_resized = im.resize((120, 120))\n",
    "data = list(im_resized.getdata())\n",
    "arr = np.asarray(data, dtype=\"float32\") \n",
    "arr = np.reshape(arr, (1, 120, 120 , 3))"
   ]
  },
  {
   "cell_type": "code",
   "execution_count": 27,
   "metadata": {},
   "outputs": [],
   "source": [
    "# Get input and output tensors.\n",
    "input_details = interpreter.get_input_details()\n",
    "output_details = interpreter.get_output_details()\n",
    "\n",
    "input_data = arr\n",
    "interpreter.set_tensor(input_details[0]['index'], input_data)\n",
    "\n",
    "interpreter.invoke()\n",
    "tflite_results = interpreter.get_tensor(output_details[0]['index'])"
   ]
  },
  {
   "cell_type": "code",
   "execution_count": 28,
   "metadata": {},
   "outputs": [
    {
     "data": {
      "text/plain": [
       "array([[0., 0., 0., 1.]], dtype=float32)"
      ]
     },
     "execution_count": 28,
     "metadata": {},
     "output_type": "execute_result"
    }
   ],
   "source": [
    "tflite_results"
   ]
  },
  {
   "cell_type": "code",
   "execution_count": null,
   "metadata": {},
   "outputs": [],
   "source": []
  }
 ],
 "metadata": {
  "kernelspec": {
   "display_name": "conda_tensorflow2_p36",
   "language": "python",
   "name": "conda_tensorflow2_p36"
  },
  "language_info": {
   "codemirror_mode": {
    "name": "ipython",
    "version": 3
   },
   "file_extension": ".py",
   "mimetype": "text/x-python",
   "name": "python",
   "nbconvert_exporter": "python",
   "pygments_lexer": "ipython3",
   "version": "3.6.10"
  }
 },
 "nbformat": 4,
 "nbformat_minor": 4
}
