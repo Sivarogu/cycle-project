{
 "cells": [
  {
   "cell_type": "code",
   "execution_count": 21,
   "metadata": {},
   "outputs": [
    {
     "name": "stdout",
     "output_type": "stream",
     "text": [
      "Found 2759 images belonging to 4 classes.\n",
      "Found 688 images belonging to 4 classes.\n"
     ]
    }
   ],
   "source": [
    "import tensorflow as tf\n",
    "import keras_preprocessing\n",
    "from keras_preprocessing.image import ImageDataGenerator\n",
    "\n",
    "TRAINING_DIR = \"../trash_classification/dataset/train\"\n",
    "training_datagen = ImageDataGenerator(\n",
    "    rescale = 1./255,\n",
    "    rotation_range=40,\n",
    "    width_shift_range=0.2,\n",
    "    height_shift_range=0.2,\n",
    "    shear_range=0.2,\n",
    "    zoom_range=0.2,\n",
    "    horizontal_flip=True,\n",
    "    fill_mode='nearest',\n",
    "    validation_split=0.2)\n",
    "\n",
    "\n",
    "train_generator = training_datagen.flow_from_directory(\n",
    "    TRAINING_DIR,\n",
    "    target_size=(112, 112),\n",
    "    class_mode='categorical',\n",
    "    batch_size=64,\n",
    "    subset='training'\n",
    ")\n",
    "\n",
    "validation_generator = training_datagen.flow_from_directory(\n",
    "    TRAINING_DIR,\n",
    "    target_size=(112, 112),\n",
    "    class_mode='categorical',\n",
    "    batch_size=64,\n",
    "    subset='validation'\n",
    ")"
   ]
  },
  {
   "cell_type": "code",
   "execution_count": 3,
   "metadata": {},
   "outputs": [],
   "source": [
    "model = tf.keras.models.Sequential([\n",
    "    # Note the input shape is the desired size of the image 150x150 with 3 bytes color\n",
    "    # This is the first convolution\n",
    "    tf.keras.layers.Conv2D(64, (3,3), activation='relu', input_shape=(112, 112, 3)),\n",
    "    tf.keras.layers.MaxPooling2D(2, 2),\n",
    "    # The second convolution\n",
    "    tf.keras.layers.Conv2D(64, (3,3), activation='relu'),\n",
    "    tf.keras.layers.MaxPooling2D(2,2),\n",
    "    # The third convolution\n",
    "    tf.keras.layers.Conv2D(128, (3,3), activation='relu'),\n",
    "    tf.keras.layers.MaxPooling2D(2,2),\n",
    "    # The fourth convolution\n",
    "    tf.keras.layers.Conv2D(128, (3,3), activation='relu'),\n",
    "    tf.keras.layers.MaxPooling2D(2,2),\n",
    "    # Flatten the results to feed into a DNN\n",
    "    tf.keras.layers.Flatten(),\n",
    "    tf.keras.layers.Dropout(0.5),\n",
    "    # 512 neuron hidden layer\n",
    "    tf.keras.layers.Dense(512, activation='relu'),\n",
    "    tf.keras.layers.Dense(4, activation='softmax')\n",
    "])\n",
    "# model = tf.keras.Sequential([\n",
    "#     tf.keras.layers.Flatten(input_shape=(204, 136, 3)),\n",
    "#     tf.keras.layers.Dense(units=1),\n",
    "#     tf.keras.layers.Dense(4, activation='softmax')\n",
    "# ])"
   ]
  },
  {
   "cell_type": "code",
   "execution_count": 4,
   "metadata": {},
   "outputs": [
    {
     "name": "stdout",
     "output_type": "stream",
     "text": [
      "Model: \"sequential\"\n",
      "_________________________________________________________________\n",
      "Layer (type)                 Output Shape              Param #   \n",
      "=================================================================\n",
      "conv2d (Conv2D)              (None, 126, 126, 64)      1792      \n",
      "_________________________________________________________________\n",
      "max_pooling2d (MaxPooling2D) (None, 63, 63, 64)        0         \n",
      "_________________________________________________________________\n",
      "conv2d_1 (Conv2D)            (None, 61, 61, 64)        36928     \n",
      "_________________________________________________________________\n",
      "max_pooling2d_1 (MaxPooling2 (None, 30, 30, 64)        0         \n",
      "_________________________________________________________________\n",
      "conv2d_2 (Conv2D)            (None, 28, 28, 128)       73856     \n",
      "_________________________________________________________________\n",
      "max_pooling2d_2 (MaxPooling2 (None, 14, 14, 128)       0         \n",
      "_________________________________________________________________\n",
      "conv2d_3 (Conv2D)            (None, 12, 12, 128)       147584    \n",
      "_________________________________________________________________\n",
      "max_pooling2d_3 (MaxPooling2 (None, 6, 6, 128)         0         \n",
      "_________________________________________________________________\n",
      "flatten (Flatten)            (None, 4608)              0         \n",
      "_________________________________________________________________\n",
      "dropout (Dropout)            (None, 4608)              0         \n",
      "_________________________________________________________________\n",
      "dense (Dense)                (None, 512)               2359808   \n",
      "_________________________________________________________________\n",
      "dense_1 (Dense)              (None, 4)                 2052      \n",
      "=================================================================\n",
      "Total params: 2,622,020\n",
      "Trainable params: 2,622,020\n",
      "Non-trainable params: 0\n",
      "_________________________________________________________________\n"
     ]
    }
   ],
   "source": [
    "model.summary()\n",
    "\n",
    "model.compile(loss = 'categorical_crossentropy', optimizer='adam', metrics=['accuracy'])"
   ]
  },
  {
   "cell_type": "code",
   "execution_count": 7,
   "metadata": {},
   "outputs": [
    {
     "name": "stdout",
     "output_type": "stream",
     "text": [
      "Epoch 1/40\n",
      "43/43 [==============================] - 89s 2s/step - loss: 0.7724 - accuracy: 0.7232 - val_loss: 0.8260 - val_accuracy: 0.7375\n",
      "Epoch 2/40\n",
      "43/43 [==============================] - 87s 2s/step - loss: 0.7743 - accuracy: 0.7224 - val_loss: 0.7633 - val_accuracy: 0.7141\n",
      "Epoch 3/40\n",
      "43/43 [==============================] - 84s 2s/step - loss: 0.7421 - accuracy: 0.7317 - val_loss: 0.7571 - val_accuracy: 0.7453\n",
      "Epoch 4/40\n",
      "43/43 [==============================] - 84s 2s/step - loss: 0.7075 - accuracy: 0.7362 - val_loss: 0.7767 - val_accuracy: 0.7406\n",
      "Epoch 5/40\n",
      "43/43 [==============================] - 90s 2s/step - loss: 0.6435 - accuracy: 0.7529 - val_loss: 0.7219 - val_accuracy: 0.7781\n",
      "Epoch 6/40\n",
      "43/43 [==============================] - 94s 2s/step - loss: 0.6516 - accuracy: 0.7547 - val_loss: 0.7164 - val_accuracy: 0.7563\n",
      "Epoch 7/40\n",
      "43/43 [==============================] - 92s 2s/step - loss: 0.6585 - accuracy: 0.7562 - val_loss: 0.6074 - val_accuracy: 0.7625\n",
      "Epoch 8/40\n",
      "43/43 [==============================] - 86s 2s/step - loss: 0.6156 - accuracy: 0.7607 - val_loss: 0.6334 - val_accuracy: 0.7797\n",
      "Epoch 9/40\n",
      "43/43 [==============================] - 87s 2s/step - loss: 0.6143 - accuracy: 0.7681 - val_loss: 0.7719 - val_accuracy: 0.7594\n",
      "Epoch 10/40\n",
      "43/43 [==============================] - 83s 2s/step - loss: 0.6298 - accuracy: 0.7644 - val_loss: 0.6307 - val_accuracy: 0.7609\n",
      "Epoch 11/40\n",
      "43/43 [==============================] - 87s 2s/step - loss: 0.6215 - accuracy: 0.7759 - val_loss: 0.6074 - val_accuracy: 0.7797\n",
      "Epoch 12/40\n",
      "43/43 [==============================] - 84s 2s/step - loss: 0.5763 - accuracy: 0.7852 - val_loss: 0.6988 - val_accuracy: 0.7578\n",
      "Epoch 13/40\n",
      "43/43 [==============================] - 81s 2s/step - loss: 0.6057 - accuracy: 0.7803 - val_loss: 0.6077 - val_accuracy: 0.7781\n",
      "Epoch 14/40\n",
      "43/43 [==============================] - 86s 2s/step - loss: 0.5840 - accuracy: 0.7807 - val_loss: 0.6631 - val_accuracy: 0.7719\n",
      "Epoch 15/40\n",
      "43/43 [==============================] - 79s 2s/step - loss: 0.5703 - accuracy: 0.7874 - val_loss: 0.6815 - val_accuracy: 0.7766\n",
      "Epoch 16/40\n",
      "43/43 [==============================] - 82s 2s/step - loss: 0.5702 - accuracy: 0.7837 - val_loss: 0.7484 - val_accuracy: 0.7703\n",
      "CPU times: user 24min 57s, sys: 1min 23s, total: 26min 21s\n",
      "Wall time: 22min 54s\n"
     ]
    }
   ],
   "source": [
    "%%time\n",
    "\n",
    "callbacks = [\n",
    "    tf.keras.callbacks.EarlyStopping(monitor='val_loss', min_delta=0, patience=5)\n",
    "]\n",
    "\n",
    "history = model.fit_generator(\n",
    "    train_generator,\n",
    "    epochs=40,\n",
    "    steps_per_epoch=train_generator.samples // 64,\n",
    "    validation_data=validation_generator, \n",
    "    validation_steps=validation_generator.samples // 64,\n",
    "    callbacks=callbacks,\n",
    ")\n"
   ]
  },
  {
   "cell_type": "code",
   "execution_count": 8,
   "metadata": {},
   "outputs": [],
   "source": [
    "model.save(\"cycle_classifier_proto.h5\")"
   ]
  },
  {
   "cell_type": "code",
   "execution_count": 9,
   "metadata": {},
   "outputs": [
    {
     "data": {
      "text/plain": [
       "Text(0.5, 1.0, 'Training and validation loss')"
      ]
     },
     "execution_count": 9,
     "metadata": {},
     "output_type": "execute_result"
    },
    {
     "data": {
      "image/png": "[encoded data removed]",
      "text/plain": [
       "<Figure size 432x288 with 1 Axes>"
      ]
     },
     "metadata": {
      "needs_background": "light"
     },
     "output_type": "display_data"
    },
    {
     "data": {
      "image/png": "[encoded data removed]",
      "text/plain": [
       "<Figure size 432x288 with 1 Axes>"
      ]
     },
     "metadata": {
      "needs_background": "light"
     },
     "output_type": "display_data"
    }
   ],
   "source": [
    "%matplotlib inline\n",
    "\n",
    "import matplotlib.pyplot as plt\n",
    "\n",
    "#-----------------------------------------------------------\n",
    "# Retrieve a list of list results on training and test data\n",
    "# sets for each training epoch\n",
    "#-----------------------------------------------------------\n",
    "acc      = history.history['accuracy']\n",
    "val_acc  = history.history['val_accuracy']\n",
    "loss     = history.history['loss']\n",
    "val_loss = history.history['val_loss']\n",
    "\n",
    "epochs   = range(len(acc)) # Get number of epochs\n",
    "\n",
    "#------------------------------------------------\n",
    "# Plot training and validation accuracy per epoch\n",
    "#------------------------------------------------\n",
    "plt.plot(epochs, acc)\n",
    "plt.plot(epochs, val_acc)\n",
    "plt.title('Training and validation accuracy')\n",
    "plt.figure()\n",
    "\n",
    "#------------------------------------------------\n",
    "# Plot training and validation loss per epoch\n",
    "#------------------------------------------------\n",
    "plt.plot(epochs, loss)\n",
    "plt.plot(epochs, val_loss)\n",
    "plt.title('Training and validation loss')"
   ]
  },
  {
   "cell_type": "code",
   "execution_count": 13,
   "metadata": {},
   "outputs": [],
   "source": [
    "from sklearn.metrics import classification_report, confusion_matrix\n",
    "import numpy as np\n",
    "\n",
    "Y_pred = model.predict_generator(validation_generator, validation_generator.samples // 64+1)\n",
    "y_pred = np.argmax(Y_pred, axis=1)"
   ]
  },
  {
   "cell_type": "code",
   "execution_count": 15,
   "metadata": {},
   "outputs": [
    {
     "name": "stdout",
     "output_type": "stream",
     "text": [
      "Confusion Matrix\n",
      "[[  0   2  31   0]\n",
      " [  0   4  39   1]\n",
      " [  0  18 459  18]\n",
      " [  0   3 110   3]]\n"
     ]
    }
   ],
   "source": [
    "print('Confusion Matrix')\n",
    "print(confusion_matrix(validation_generator.classes, y_pred))"
   ]
  },
  {
   "cell_type": "code",
   "execution_count": 14,
   "metadata": {},
   "outputs": [
    {
     "name": "stdout",
     "output_type": "stream",
     "text": [
      "Classification Report\n",
      "              precision    recall  f1-score   support\n",
      "\n",
      "       Autre       0.00      0.00      0.00        33\n",
      "   Organique       0.15      0.09      0.11        44\n",
      "  Recyclable       0.72      0.93      0.81       495\n",
      "       Verre       0.14      0.03      0.04       116\n",
      "\n",
      "    accuracy                           0.68       688\n",
      "   macro avg       0.25      0.26      0.24       688\n",
      "weighted avg       0.55      0.68      0.60       688\n",
      "\n"
     ]
    }
   ],
   "source": [
    "print('Classification Report')\n",
    "target_names = ['Autre', 'Organique', 'Recyclable', 'Verre']\n",
    "print(classification_report(validation_generator.classes, y_pred, target_names=target_names))"
   ]
  },
  {
   "cell_type": "markdown",
   "metadata": {},
   "source": [
    "Pistes d'améliorations rapides:\n",
    "- contrer le déséquilibre des classes (https://medium.com/analytics-vidhya/how-to-apply-data-augmentation-to-deal-with-unbalanced-datasets-in-20-lines-of-code-ada8521320c9)\n",
    "- utiliser du transfer learning pour commencer avec un modèle plus robuste et déjà entrainé (DenseNet, ResNet, VGG16, EfficientNet)\n",
    "- équilibrer le dataset en rajoutant/retirant des images"
   ]
  },
  {
   "cell_type": "code",
   "execution_count": 33,
   "metadata": {},
   "outputs": [],
   "source": [
    "model_DN121 = tf.keras.Sequential([tf.keras.applications.DenseNet121(weights='imagenet',\n",
    "                                                                   input_shape=(112, 112, 3),\n",
    "                                                                   include_top=False,\n",
    "                                                                   pooling='max'\n",
    "                                                                  ),\n",
    "                                 tf.keras.layers.Dense(4, activation='softmax')])"
   ]
  },
  {
   "cell_type": "code",
   "execution_count": 34,
   "metadata": {},
   "outputs": [],
   "source": [
    "model_DN121.compile(loss = 'categorical_crossentropy', optimizer='adam', metrics=['accuracy'])"
   ]
  },
  {
   "cell_type": "code",
   "execution_count": 35,
   "metadata": {},
   "outputs": [],
   "source": [
    "def build_lrfn(lr_start=0.00001, lr_max=0.00005, \n",
    "               lr_min=0.00001, lr_rampup_epochs=5, \n",
    "               lr_sustain_epochs=0, lr_exp_decay=.8):\n",
    "    def lrfn(epoch):\n",
    "        if epoch < lr_rampup_epochs:\n",
    "            lr = (lr_max - lr_start) / lr_rampup_epochs * epoch + lr_start\n",
    "        elif epoch < lr_rampup_epochs + lr_sustain_epochs:\n",
    "            lr = lr_max\n",
    "        else:\n",
    "            lr = (lr_max - lr_min) *\\\n",
    "                 lr_exp_decay**(epoch - lr_rampup_epochs\\\n",
    "                                - lr_sustain_epochs) + lr_min\n",
    "        return lr\n",
    "    return lrfn\n",
    "\n",
    "lr_schedule = tf.keras.callbacks.LearningRateScheduler(build_lrfn(), verbose=1)"
   ]
  },
  {
   "cell_type": "code",
   "execution_count": 36,
   "metadata": {},
   "outputs": [
    {
     "name": "stdout",
     "output_type": "stream",
     "text": [
      "\n",
      "Epoch 00001: LearningRateScheduler reducing learning rate to 1e-05.\n",
      "Epoch 1/15\n",
      "43/43 [==============================] - 90s 2s/step - loss: 1.8094 - accuracy: 0.4074 - val_loss: 2.0469 - val_accuracy: 0.3922\n",
      "\n",
      "Epoch 00002: LearningRateScheduler reducing learning rate to 1.8000000000000004e-05.\n",
      "Epoch 2/15\n",
      "43/43 [==============================] - 90s 2s/step - loss: 1.1125 - accuracy: 0.6203 - val_loss: 1.3396 - val_accuracy: 0.5453\n",
      "\n",
      "Epoch 00003: LearningRateScheduler reducing learning rate to 2.6000000000000002e-05.\n",
      "Epoch 3/15\n",
      "43/43 [==============================] - 91s 2s/step - loss: 0.6926 - accuracy: 0.7654 - val_loss: 1.1004 - val_accuracy: 0.6578\n",
      "\n",
      "Epoch 00004: LearningRateScheduler reducing learning rate to 3.4000000000000007e-05.\n",
      "Epoch 4/15\n",
      "43/43 [==============================] - 90s 2s/step - loss: 0.5478 - accuracy: 0.8126 - val_loss: 1.0296 - val_accuracy: 0.6687\n",
      "\n",
      "Epoch 00005: LearningRateScheduler reducing learning rate to 4.2000000000000004e-05.\n",
      "Epoch 5/15\n",
      "43/43 [==============================] - 87s 2s/step - loss: 0.4348 - accuracy: 0.8497 - val_loss: 0.9010 - val_accuracy: 0.7422\n",
      "\n",
      "Epoch 00006: LearningRateScheduler reducing learning rate to 5e-05.\n",
      "Epoch 6/15\n",
      "43/43 [==============================] - 88s 2s/step - loss: 0.3617 - accuracy: 0.8850 - val_loss: 0.8189 - val_accuracy: 0.7563\n",
      "\n",
      "Epoch 00007: LearningRateScheduler reducing learning rate to 4.2000000000000004e-05.\n",
      "Epoch 7/15\n",
      "43/43 [==============================] - 89s 2s/step - loss: 0.2990 - accuracy: 0.8920 - val_loss: 0.8549 - val_accuracy: 0.8031\n",
      "\n",
      "Epoch 00008: LearningRateScheduler reducing learning rate to 3.5600000000000005e-05.\n",
      "Epoch 8/15\n",
      "43/43 [==============================] - 91s 2s/step - loss: 0.2283 - accuracy: 0.9195 - val_loss: 0.8077 - val_accuracy: 0.8094\n",
      "\n",
      "Epoch 00009: LearningRateScheduler reducing learning rate to 3.0480000000000006e-05.\n",
      "Epoch 9/15\n",
      "43/43 [==============================] - 97s 2s/step - loss: 0.2328 - accuracy: 0.9180 - val_loss: 0.9211 - val_accuracy: 0.7984\n",
      "\n",
      "Epoch 00010: LearningRateScheduler reducing learning rate to 2.6384000000000004e-05.\n",
      "Epoch 10/15\n",
      "43/43 [==============================] - 87s 2s/step - loss: 0.1866 - accuracy: 0.9273 - val_loss: 0.9124 - val_accuracy: 0.7859\n",
      "\n",
      "Epoch 00011: LearningRateScheduler reducing learning rate to 2.3107200000000005e-05.\n",
      "Epoch 11/15\n",
      "43/43 [==============================] - 95s 2s/step - loss: 0.1752 - accuracy: 0.9358 - val_loss: 0.9118 - val_accuracy: 0.8047\n",
      "\n",
      "Epoch 00012: LearningRateScheduler reducing learning rate to 2.0485760000000004e-05.\n",
      "Epoch 12/15\n",
      "43/43 [==============================] - 86s 2s/step - loss: 0.1713 - accuracy: 0.9377 - val_loss: 0.8711 - val_accuracy: 0.8094\n",
      "\n",
      "Epoch 00013: LearningRateScheduler reducing learning rate to 1.8388608000000004e-05.\n",
      "Epoch 13/15\n",
      "43/43 [==============================] - 92s 2s/step - loss: 0.1577 - accuracy: 0.9386 - val_loss: 0.8944 - val_accuracy: 0.7922\n",
      "\n",
      "Epoch 00014: LearningRateScheduler reducing learning rate to 1.6710886400000004e-05.\n",
      "Epoch 14/15\n",
      "43/43 [==============================] - 91s 2s/step - loss: 0.1659 - accuracy: 0.9401 - val_loss: 0.9524 - val_accuracy: 0.7750\n",
      "\n",
      "Epoch 00015: LearningRateScheduler reducing learning rate to 1.5368709120000003e-05.\n",
      "Epoch 15/15\n",
      "43/43 [==============================] - 95s 2s/step - loss: 0.1347 - accuracy: 0.9473 - val_loss: 0.9014 - val_accuracy: 0.8078\n",
      "CPU times: user 28min 3s, sys: 1min 14s, total: 29min 18s\n",
      "Wall time: 22min 39s\n"
     ]
    }
   ],
   "source": [
    "%%time\n",
    "history = model_DN121.fit_generator(\n",
    "    train_generator,\n",
    "    epochs=15,\n",
    "    steps_per_epoch=train_generator.samples // 64,\n",
    "    validation_data=validation_generator, \n",
    "    validation_steps=validation_generator.samples // 64,\n",
    "    callbacks=[lr_schedule],\n",
    ")"
   ]
  },
  {
   "cell_type": "code",
   "execution_count": 38,
   "metadata": {},
   "outputs": [],
   "source": [
    "model_DN121.save(\"cycle_classifier_DN121.h5\")"
   ]
  },
  {
   "cell_type": "code",
   "execution_count": 39,
   "metadata": {},
   "outputs": [
    {
     "data": {
      "text/plain": [
       "Text(0.5, 1.0, 'Training and validation loss')"
      ]
     },
     "execution_count": 39,
     "metadata": {},
     "output_type": "execute_result"
    },
    {
     "data": {
      "image/png": "[encoded data removed]",
      "text/plain": [
       "<Figure size 432x288 with 1 Axes>"
      ]
     },
     "metadata": {
      "needs_background": "light"
     },
     "output_type": "display_data"
    },
    {
     "data": {
      "image/png": "[encoded data removed]",
      "text/plain": [
       "<Figure size 432x288 with 1 Axes>"
      ]
     },
     "metadata": {
      "needs_background": "light"
     },
     "output_type": "display_data"
    }
   ],
   "source": [
    "%matplotlib inline\n",
    "\n",
    "import matplotlib.pyplot as plt\n",
    "\n",
    "#-----------------------------------------------------------\n",
    "# Retrieve a list of list results on training and test data\n",
    "# sets for each training epoch\n",
    "#-----------------------------------------------------------\n",
    "acc      = history.history['accuracy']\n",
    "val_acc  = history.history['val_accuracy']\n",
    "loss     = history.history['loss']\n",
    "val_loss = history.history['val_loss']\n",
    "\n",
    "epochs   = range(len(acc)) # Get number of epochs\n",
    "\n",
    "#------------------------------------------------\n",
    "# Plot training and validation accuracy per epoch\n",
    "#------------------------------------------------\n",
    "plt.plot(epochs, acc)\n",
    "plt.plot(epochs, val_acc)\n",
    "plt.title('Training and validation accuracy')\n",
    "plt.figure()\n",
    "\n",
    "#------------------------------------------------\n",
    "# Plot training and validation loss per epoch\n",
    "#------------------------------------------------\n",
    "plt.plot(epochs, loss)\n",
    "plt.plot(epochs, val_loss)\n",
    "plt.title('Training and validation loss')"
   ]
  },
  {
   "cell_type": "code",
   "execution_count": 40,
   "metadata": {},
   "outputs": [
    {
     "name": "stdout",
     "output_type": "stream",
     "text": [
      "Confusion Matrix\n",
      "[[  0   4  26   3]\n",
      " [  1   8  33   2]\n",
      " [  6  31 424  34]\n",
      " [  4  10  94   8]]\n",
      "Classification Report\n",
      "              precision    recall  f1-score   support\n",
      "\n",
      "       Autre       0.00      0.00      0.00        33\n",
      "   Organique       0.15      0.18      0.16        44\n",
      "  Recyclable       0.73      0.86      0.79       495\n",
      "       Verre       0.17      0.07      0.10       116\n",
      "\n",
      "    accuracy                           0.64       688\n",
      "   macro avg       0.26      0.28      0.26       688\n",
      "weighted avg       0.57      0.64      0.60       688\n",
      "\n"
     ]
    }
   ],
   "source": [
    "from sklearn.metrics import classification_report, confusion_matrix\n",
    "import numpy as np\n",
    "\n",
    "Y_pred = model_DN121.predict_generator(validation_generator, validation_generator.samples // 64+1)\n",
    "y_pred = np.argmax(Y_pred, axis=1)\n",
    "\n",
    "print('Confusion Matrix')\n",
    "print(confusion_matrix(validation_generator.classes, y_pred))\n",
    "\n",
    "print('Classification Report')\n",
    "target_names = ['Autre', 'Organique', 'Recyclable', 'Verre']\n",
    "print(classification_report(validation_generator.classes, y_pred, target_names=target_names))"
   ]
  },
  {
   "cell_type": "code",
   "execution_count": null,
   "metadata": {},
   "outputs": [],
   "source": []
  }
 ],
 "metadata": {
  "kernelspec": {
   "display_name": "Python 3",
   "language": "python",
   "name": "python3"
  },
  "language_info": {
   "codemirror_mode": {
    "name": "ipython",
    "version": 3
   },
   "file_extension": ".py",
   "mimetype": "text/x-python",
   "name": "python",
   "nbconvert_exporter": "python",
   "pygments_lexer": "ipython3",
   "version": "3.7.7"
  }
 },
 "nbformat": 4,
 "nbformat_minor": 4
}
