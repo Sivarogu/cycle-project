{
 "cells": [
  {
   "cell_type": "code",
   "execution_count": 1,
   "metadata": {},
   "outputs": [
    {
     "name": "stdout",
     "output_type": "stream",
     "text": [
      "Found 383 images belonging to 4 classes.\n",
      "Found 66 images belonging to 4 classes.\n"
     ]
    }
   ],
   "source": [
    "import tensorflow as tf\n",
    "import keras_preprocessing\n",
    "from keras_preprocessing.image import ImageDataGenerator\n",
    "\n",
    "TRAINING_DIR = \"../dataset\"\n",
    "training_datagen = ImageDataGenerator(\n",
    "    rescale = 1./255,\n",
    "    rotation_range=50,\n",
    "    zoom_range=0.2,\n",
    "    horizontal_flip=True,\n",
    "    fill_mode='nearest',\n",
    "    validation_split=0.15)\n",
    "\n",
    "\n",
    "train_generator = training_datagen.flow_from_directory(\n",
    "    TRAINING_DIR,\n",
    "    target_size=(120, 120),\n",
    "    class_mode='categorical',\n",
    "    batch_size=16,\n",
    "    subset='training'\n",
    ")\n",
    "\n",
    "validation_generator = training_datagen.flow_from_directory(\n",
    "    TRAINING_DIR,\n",
    "    target_size=(120, 120),\n",
    "    class_mode='categorical',\n",
    "    batch_size=16,\n",
    "    subset='validation'\n",
    ")"
   ]
  },
  {
   "cell_type": "code",
   "execution_count": 74,
   "metadata": {},
   "outputs": [],
   "source": [
    "model = tf.keras.models.Sequential([\n",
    "    # This is the first convolution\n",
    "    tf.keras.layers.Conv2D(64, (3,3), activation='relu', input_shape=(120, 120, 3)),\n",
    "    tf.keras.layers.MaxPooling2D(2, 2),\n",
    "    tf.keras.layers.Dropout(0.2),\n",
    "    # The second convolution\n",
    "    tf.keras.layers.Conv2D(64, (3,3), activation='relu'),\n",
    "    tf.keras.layers.MaxPooling2D(2,2),\n",
    "    tf.keras.layers.Dropout(0.2),\n",
    "    # The third convolution\n",
    "    tf.keras.layers.Conv2D(128, (3,3), activation='relu'),\n",
    "    tf.keras.layers.MaxPooling2D(2,2),\n",
    "    tf.keras.layers.Dropout(0.2),\n",
    "    # The fourth convolution\n",
    "    tf.keras.layers.Conv2D(128, (3,3), activation='relu'),\n",
    "    tf.keras.layers.MaxPooling2D(2,2),\n",
    "    tf.keras.layers.Dropout(0.2),\n",
    "    # Flatten the results to feed into a DNN\n",
    "    tf.keras.layers.Flatten(),\n",
    "    tf.keras.layers.Dropout(0.2),\n",
    "    # 512 neuron hidden layer\n",
    "    tf.keras.layers.Dense(512, activation='relu'),\n",
    "    tf.keras.layers.Dense(4, activation='softmax')\n",
    "])"
   ]
  },
  {
   "cell_type": "code",
   "execution_count": 75,
   "metadata": {},
   "outputs": [
    {
     "name": "stdout",
     "output_type": "stream",
     "text": [
      "Model: \"sequential_4\"\n",
      "_________________________________________________________________\n",
      "Layer (type)                 Output Shape              Param #   \n",
      "=================================================================\n",
      "conv2d_16 (Conv2D)           (None, 118, 118, 64)      1792      \n",
      "_________________________________________________________________\n",
      "max_pooling2d_16 (MaxPooling (None, 59, 59, 64)        0         \n",
      "_________________________________________________________________\n",
      "dropout_20 (Dropout)         (None, 59, 59, 64)        0         \n",
      "_________________________________________________________________\n",
      "conv2d_17 (Conv2D)           (None, 57, 57, 64)        36928     \n",
      "_________________________________________________________________\n",
      "max_pooling2d_17 (MaxPooling (None, 28, 28, 64)        0         \n",
      "_________________________________________________________________\n",
      "dropout_21 (Dropout)         (None, 28, 28, 64)        0         \n",
      "_________________________________________________________________\n",
      "conv2d_18 (Conv2D)           (None, 26, 26, 128)       73856     \n",
      "_________________________________________________________________\n",
      "max_pooling2d_18 (MaxPooling (None, 13, 13, 128)       0         \n",
      "_________________________________________________________________\n",
      "dropout_22 (Dropout)         (None, 13, 13, 128)       0         \n",
      "_________________________________________________________________\n",
      "conv2d_19 (Conv2D)           (None, 11, 11, 128)       147584    \n",
      "_________________________________________________________________\n",
      "max_pooling2d_19 (MaxPooling (None, 5, 5, 128)         0         \n",
      "_________________________________________________________________\n",
      "dropout_23 (Dropout)         (None, 5, 5, 128)         0         \n",
      "_________________________________________________________________\n",
      "flatten_4 (Flatten)          (None, 3200)              0         \n",
      "_________________________________________________________________\n",
      "dropout_24 (Dropout)         (None, 3200)              0         \n",
      "_________________________________________________________________\n",
      "dense_8 (Dense)              (None, 512)               1638912   \n",
      "_________________________________________________________________\n",
      "dense_9 (Dense)              (None, 4)                 2052      \n",
      "=================================================================\n",
      "Total params: 1,901,124\n",
      "Trainable params: 1,901,124\n",
      "Non-trainable params: 0\n",
      "_________________________________________________________________\n"
     ]
    }
   ],
   "source": [
    "model.summary()\n",
    "\n",
    "lr = tf.keras.optimizers.schedules.ExponentialDecay(1e-3, train_generator.samples // 16, 0.95)\n",
    "\n",
    "model.compile(loss = 'categorical_crossentropy', optimizer=tf.keras.optimizers.Adam(learning_rate=lr), metrics=['accuracy'])"
   ]
  },
  {
   "cell_type": "code",
   "execution_count": 76,
   "metadata": {},
   "outputs": [
    {
     "name": "stdout",
     "output_type": "stream",
     "text": [
      "Epoch 1/60\n",
      "23/23 [==============================] - 8s 334ms/step - loss: 1.3149 - accuracy: 0.4251 - val_loss: 1.3471 - val_accuracy: 0.4688\n",
      "Epoch 2/60\n",
      "23/23 [==============================] - 8s 360ms/step - loss: 1.2311 - accuracy: 0.4796 - val_loss: 1.3752 - val_accuracy: 0.1875\n",
      "Epoch 3/60\n",
      "23/23 [==============================] - 10s 423ms/step - loss: 1.2681 - accuracy: 0.4741 - val_loss: 1.2828 - val_accuracy: 0.4688\n",
      "Epoch 4/60\n",
      "23/23 [==============================] - 13s 562ms/step - loss: 1.2354 - accuracy: 0.4659 - val_loss: 1.3509 - val_accuracy: 0.3594\n",
      "Epoch 5/60\n",
      "23/23 [==============================] - 11s 483ms/step - loss: 1.1546 - accuracy: 0.5259 - val_loss: 1.3099 - val_accuracy: 0.4531\n",
      "Epoch 6/60\n",
      "23/23 [==============================] - 12s 502ms/step - loss: 1.0641 - accuracy: 0.5777 - val_loss: 1.3233 - val_accuracy: 0.4375\n",
      "Epoch 7/60\n",
      "23/23 [==============================] - 10s 434ms/step - loss: 1.0642 - accuracy: 0.5462 - val_loss: 1.2557 - val_accuracy: 0.4531\n",
      "Epoch 8/60\n",
      "23/23 [==============================] - 11s 486ms/step - loss: 1.0581 - accuracy: 0.5546 - val_loss: 1.2564 - val_accuracy: 0.4688\n",
      "Epoch 9/60\n",
      "23/23 [==============================] - 13s 586ms/step - loss: 0.9709 - accuracy: 0.5722 - val_loss: 1.1741 - val_accuracy: 0.4688\n",
      "Epoch 10/60\n",
      "23/23 [==============================] - 13s 547ms/step - loss: 1.0480 - accuracy: 0.5353 - val_loss: 1.2051 - val_accuracy: 0.4688\n",
      "Epoch 11/60\n",
      "23/23 [==============================] - 8s 369ms/step - loss: 0.9370 - accuracy: 0.5601 - val_loss: 1.0951 - val_accuracy: 0.3750\n",
      "Epoch 12/60\n",
      "23/23 [==============================] - 12s 531ms/step - loss: 0.9642 - accuracy: 0.5734 - val_loss: 1.2100 - val_accuracy: 0.4844\n",
      "Epoch 13/60\n",
      "23/23 [==============================] - 12s 543ms/step - loss: 0.9357 - accuracy: 0.5640 - val_loss: 1.1405 - val_accuracy: 0.5625\n",
      "Epoch 14/60\n",
      "23/23 [==============================] - 14s 589ms/step - loss: 0.9378 - accuracy: 0.5383 - val_loss: 1.1048 - val_accuracy: 0.6094\n",
      "Epoch 15/60\n",
      "23/23 [==============================] - 14s 594ms/step - loss: 0.8942 - accuracy: 0.5749 - val_loss: 1.0781 - val_accuracy: 0.5312\n",
      "Epoch 16/60\n",
      "23/23 [==============================] - 11s 483ms/step - loss: 0.8090 - accuracy: 0.6359 - val_loss: 0.9644 - val_accuracy: 0.5781\n",
      "Epoch 17/60\n",
      "23/23 [==============================] - 10s 456ms/step - loss: 0.8129 - accuracy: 0.6093 - val_loss: 1.0319 - val_accuracy: 0.5156\n",
      "Epoch 18/60\n",
      "23/23 [==============================] - 8s 331ms/step - loss: 0.7994 - accuracy: 0.6359 - val_loss: 1.0809 - val_accuracy: 0.4844\n",
      "Epoch 19/60\n",
      "23/23 [==============================] - 9s 405ms/step - loss: 0.7670 - accuracy: 0.6594 - val_loss: 1.0184 - val_accuracy: 0.5469\n",
      "Epoch 20/60\n",
      "23/23 [==============================] - 11s 459ms/step - loss: 0.7576 - accuracy: 0.6540 - val_loss: 0.9908 - val_accuracy: 0.5000\n",
      "Epoch 21/60\n",
      "23/23 [==============================] - 12s 515ms/step - loss: 0.7600 - accuracy: 0.6567 - val_loss: 1.0240 - val_accuracy: 0.4375\n",
      "Epoch 22/60\n",
      "23/23 [==============================] - 9s 404ms/step - loss: 0.7201 - accuracy: 0.6757 - val_loss: 0.9024 - val_accuracy: 0.5625\n",
      "Epoch 23/60\n",
      "23/23 [==============================] - 10s 448ms/step - loss: 0.7426 - accuracy: 0.6785 - val_loss: 0.9589 - val_accuracy: 0.6250\n",
      "Epoch 24/60\n",
      "23/23 [==============================] - 8s 337ms/step - loss: 0.6393 - accuracy: 0.7411 - val_loss: 0.8007 - val_accuracy: 0.6875\n",
      "Epoch 25/60\n",
      "23/23 [==============================] - 11s 487ms/step - loss: 0.6153 - accuracy: 0.7166 - val_loss: 0.7838 - val_accuracy: 0.7031\n",
      "Epoch 26/60\n",
      "23/23 [==============================] - 8s 354ms/step - loss: 0.5774 - accuracy: 0.7793 - val_loss: 0.7334 - val_accuracy: 0.7031\n",
      "Epoch 27/60\n",
      "23/23 [==============================] - 10s 432ms/step - loss: 0.5844 - accuracy: 0.7493 - val_loss: 0.7755 - val_accuracy: 0.7188\n",
      "Epoch 28/60\n",
      "23/23 [==============================] - 10s 452ms/step - loss: 0.5272 - accuracy: 0.7793 - val_loss: 0.7637 - val_accuracy: 0.6562\n",
      "Epoch 29/60\n",
      "23/23 [==============================] - 11s 458ms/step - loss: 0.5306 - accuracy: 0.7793 - val_loss: 0.7964 - val_accuracy: 0.6719\n",
      "Epoch 30/60\n",
      "23/23 [==============================] - 8s 347ms/step - loss: 0.4648 - accuracy: 0.8043 - val_loss: 0.6416 - val_accuracy: 0.7500\n",
      "Epoch 31/60\n",
      "23/23 [==============================] - 8s 348ms/step - loss: 0.4957 - accuracy: 0.8033 - val_loss: 0.8457 - val_accuracy: 0.7031\n",
      "Epoch 32/60\n",
      "23/23 [==============================] - 10s 416ms/step - loss: 0.4488 - accuracy: 0.8174 - val_loss: 0.6817 - val_accuracy: 0.7344\n",
      "Epoch 33/60\n",
      "23/23 [==============================] - 10s 445ms/step - loss: 0.4140 - accuracy: 0.8365 - val_loss: 0.6613 - val_accuracy: 0.8125\n",
      "Epoch 34/60\n",
      "23/23 [==============================] - 9s 413ms/step - loss: 0.4741 - accuracy: 0.8174 - val_loss: 0.6418 - val_accuracy: 0.7031\n",
      "Epoch 35/60\n",
      "23/23 [==============================] - 9s 382ms/step - loss: 0.4138 - accuracy: 0.8147 - val_loss: 0.6448 - val_accuracy: 0.7812\n",
      "Epoch 36/60\n",
      "23/23 [==============================] - 9s 373ms/step - loss: 0.3987 - accuracy: 0.8614 - val_loss: 0.6331 - val_accuracy: 0.8281\n",
      "Epoch 37/60\n",
      "23/23 [==============================] - 9s 371ms/step - loss: 0.4868 - accuracy: 0.8120 - val_loss: 0.6501 - val_accuracy: 0.7969\n",
      "Epoch 38/60\n",
      "23/23 [==============================] - 9s 385ms/step - loss: 0.3827 - accuracy: 0.8552 - val_loss: 0.6343 - val_accuracy: 0.8125\n",
      "Epoch 39/60\n",
      "23/23 [==============================] - 9s 396ms/step - loss: 0.4469 - accuracy: 0.8261 - val_loss: 0.6407 - val_accuracy: 0.8281\n",
      "Epoch 40/60\n",
      "23/23 [==============================] - 9s 395ms/step - loss: 0.3606 - accuracy: 0.8801 - val_loss: 0.6168 - val_accuracy: 0.8125\n",
      "Epoch 41/60\n",
      "23/23 [==============================] - 8s 367ms/step - loss: 0.3646 - accuracy: 0.8583 - val_loss: 0.6070 - val_accuracy: 0.8438\n",
      "Epoch 42/60\n",
      "23/23 [==============================] - 9s 386ms/step - loss: 0.3908 - accuracy: 0.8365 - val_loss: 0.5717 - val_accuracy: 0.8438\n",
      "Epoch 43/60\n",
      "23/23 [==============================] - 10s 432ms/step - loss: 0.3116 - accuracy: 0.8965 - val_loss: 0.5503 - val_accuracy: 0.8594\n",
      "Epoch 44/60\n",
      "23/23 [==============================] - 7s 324ms/step - loss: 0.3800 - accuracy: 0.8311 - val_loss: 0.5706 - val_accuracy: 0.8281\n",
      "Epoch 45/60\n",
      "23/23 [==============================] - 8s 354ms/step - loss: 0.3263 - accuracy: 0.8661 - val_loss: 0.5455 - val_accuracy: 0.8594\n",
      "Epoch 46/60\n",
      "23/23 [==============================] - 8s 354ms/step - loss: 0.3175 - accuracy: 0.8859 - val_loss: 0.6509 - val_accuracy: 0.8281\n",
      "Epoch 47/60\n",
      "23/23 [==============================] - 10s 427ms/step - loss: 0.3454 - accuracy: 0.8610 - val_loss: 0.5746 - val_accuracy: 0.8281\n",
      "Epoch 48/60\n",
      "23/23 [==============================] - 9s 405ms/step - loss: 0.3092 - accuracy: 0.8856 - val_loss: 0.5963 - val_accuracy: 0.8438\n",
      "Epoch 49/60\n",
      "23/23 [==============================] - 9s 378ms/step - loss: 0.3484 - accuracy: 0.8583 - val_loss: 0.5802 - val_accuracy: 0.8438\n",
      "Epoch 50/60\n",
      "23/23 [==============================] - 8s 361ms/step - loss: 0.3125 - accuracy: 0.9019 - val_loss: 0.5581 - val_accuracy: 0.8906\n",
      "Epoch 51/60\n",
      "23/23 [==============================] - 8s 357ms/step - loss: 0.3261 - accuracy: 0.8828 - val_loss: 0.6438 - val_accuracy: 0.8750\n",
      "Epoch 52/60\n",
      "23/23 [==============================] - 8s 364ms/step - loss: 0.2911 - accuracy: 0.9046 - val_loss: 0.5562 - val_accuracy: 0.8594\n",
      "Epoch 53/60\n",
      "23/23 [==============================] - 8s 361ms/step - loss: 0.3202 - accuracy: 0.8774 - val_loss: 0.6009 - val_accuracy: 0.8594\n",
      "Epoch 54/60\n",
      "23/23 [==============================] - 8s 355ms/step - loss: 0.3050 - accuracy: 0.8910 - val_loss: 0.5262 - val_accuracy: 0.8906\n",
      "Epoch 55/60\n",
      "23/23 [==============================] - 8s 365ms/step - loss: 0.2661 - accuracy: 0.9076 - val_loss: 0.5514 - val_accuracy: 0.8281\n",
      "Epoch 56/60\n",
      "23/23 [==============================] - 9s 372ms/step - loss: 0.3166 - accuracy: 0.8798 - val_loss: 0.5323 - val_accuracy: 0.8594\n",
      "Epoch 57/60\n",
      "23/23 [==============================] - 8s 357ms/step - loss: 0.2576 - accuracy: 0.8965 - val_loss: 0.5985 - val_accuracy: 0.8750\n",
      "Epoch 58/60\n",
      "23/23 [==============================] - 8s 364ms/step - loss: 0.2923 - accuracy: 0.8965 - val_loss: 0.5357 - val_accuracy: 0.8438\n",
      "Epoch 59/60\n",
      "23/23 [==============================] - 8s 360ms/step - loss: 0.3028 - accuracy: 0.8828 - val_loss: 0.5143 - val_accuracy: 0.8750\n",
      "Epoch 60/60\n",
      "23/23 [==============================] - 9s 394ms/step - loss: 0.3249 - accuracy: 0.8774 - val_loss: 0.5022 - val_accuracy: 0.8594\n",
      "CPU times: user 58min 42s, sys: 5min 52s, total: 1h 4min 34s\n",
      "Wall time: 9min 36s\n"
     ]
    }
   ],
   "source": [
    "%%time\n",
    "\n",
    "callbacks = [\n",
    "    tf.keras.callbacks.EarlyStopping(monitor='val_loss', min_delta=0, patience=14),\n",
    "    tf.keras.callbacks.ModelCheckpoint(\"cycle_classifier_proto_2.h5\", monitor='val_accuracy', save_best_only=True)\n",
    "]\n",
    "\n",
    "history = model.fit_generator(\n",
    "    train_generator,\n",
    "    epochs=60,\n",
    "    steps_per_epoch=train_generator.samples // 16,\n",
    "    validation_data=validation_generator, \n",
    "    validation_steps=validation_generator.samples // 16,\n",
    "    callbacks=callbacks,\n",
    ")\n"
   ]
  },
  {
   "cell_type": "code",
   "execution_count": 152,
   "metadata": {},
   "outputs": [],
   "source": [
    "model.save(\"cycle_classifier_proto.h5\")"
   ]
  },
  {
   "cell_type": "code",
   "execution_count": 77,
   "metadata": {},
   "outputs": [
    {
     "data": {
      "text/plain": [
       "Text(0.5, 1.0, 'Training and validation loss')"
      ]
     },
     "execution_count": 77,
     "metadata": {},
     "output_type": "execute_result"
    },
    {
     "data": {
      "image/png": "[encoded data removed]",
      "text/plain": [
       "<Figure size 432x288 with 1 Axes>"
      ]
     },
     "metadata": {
      "needs_background": "light"
     },
     "output_type": "display_data"
    },
    {
     "data": {
      "image/png": "[encoded data removed]",
      "text/plain": [
       "<Figure size 432x288 with 1 Axes>"
      ]
     },
     "metadata": {
      "needs_background": "light"
     },
     "output_type": "display_data"
    }
   ],
   "source": [
    "%matplotlib inline\n",
    "\n",
    "import matplotlib.pyplot as plt\n",
    "\n",
    "#-----------------------------------------------------------\n",
    "# Retrieve a list of list results on training and test data\n",
    "# sets for each training epoch\n",
    "#-----------------------------------------------------------\n",
    "acc      = history.history['accuracy']\n",
    "val_acc  = history.history['val_accuracy']\n",
    "loss     = history.history['loss']\n",
    "val_loss = history.history['val_loss']\n",
    "\n",
    "epochs   = range(len(acc)) # Get number of epochs\n",
    "\n",
    "#------------------------------------------------\n",
    "# Plot training and validation accuracy per epoch\n",
    "#------------------------------------------------\n",
    "plt.plot(epochs, acc)\n",
    "plt.plot(epochs, val_acc)\n",
    "plt.title('Training and validation accuracy')\n",
    "plt.figure()\n",
    "\n",
    "#------------------------------------------------\n",
    "# Plot training and validation loss per epoch\n",
    "#------------------------------------------------\n",
    "plt.plot(epochs, loss)\n",
    "plt.plot(epochs, val_loss)\n",
    "plt.title('Training and validation loss')"
   ]
  },
  {
   "cell_type": "code",
   "execution_count": 44,
   "metadata": {},
   "outputs": [],
   "source": [
    "from sklearn.metrics import classification_report, confusion_matrix\n",
    "import numpy as np\n",
    "\n",
    "Y_pred = model.predict_generator(validation_generator, validation_generator.samples // 16+1)\n",
    "y_pred = np.argmax(Y_pred, axis=1)"
   ]
  },
  {
   "cell_type": "code",
   "execution_count": 78,
   "metadata": {},
   "outputs": [
    {
     "data": {
      "text/plain": [
       "array([[6.97095156e-01, 8.52762833e-02, 1.11023001e-01, 1.06605604e-01],\n",
       "       [3.23792847e-06, 1.67425856e-01, 8.67710076e-03, 8.23893845e-01],\n",
       "       [4.73359413e-03, 4.24937233e-02, 5.77173010e-02, 8.95055413e-01],\n",
       "       [6.58542989e-03, 1.01405487e-04, 8.81063223e-01, 1.12249903e-01],\n",
       "       [2.76889132e-05, 2.89339989e-01, 1.16366126e-01, 5.94266176e-01],\n",
       "       [6.67649209e-02, 6.56115869e-03, 7.51206100e-01, 1.75467864e-01],\n",
       "       [1.33909285e-01, 1.97466597e-05, 8.53803396e-01, 1.22675896e-02],\n",
       "       [1.20067127e-01, 1.11822644e-03, 8.12576950e-01, 6.62377402e-02],\n",
       "       [3.54973162e-10, 9.99203980e-01, 4.46021768e-05, 7.51457934e-04],\n",
       "       [1.40746987e-08, 3.66898882e-03, 3.74986194e-02, 9.58832383e-01],\n",
       "       [4.13125323e-04, 1.04452204e-03, 8.48857284e-01, 1.49685040e-01],\n",
       "       [5.29022396e-01, 5.35971262e-02, 2.67502666e-01, 1.49877757e-01],\n",
       "       [4.34967751e-09, 5.52372634e-02, 2.68379122e-01, 6.76383615e-01],\n",
       "       [1.81036592e-02, 4.92998806e-04, 9.11966681e-01, 6.94366470e-02],\n",
       "       [7.20046577e-04, 3.47938277e-02, 4.79438841e-01, 4.85047311e-01],\n",
       "       [1.13641985e-09, 8.07602778e-02, 3.48609164e-02, 8.84378791e-01],\n",
       "       [6.01243339e-02, 3.55193159e-04, 8.98355186e-01, 4.11653854e-02],\n",
       "       [4.93086666e-01, 6.83941926e-06, 4.98498678e-01, 8.40787869e-03],\n",
       "       [4.81580384e-04, 4.64845568e-01, 1.20574728e-01, 4.14098024e-01],\n",
       "       [1.12708367e-04, 3.33341376e-07, 8.39143872e-01, 1.60743043e-01],\n",
       "       [1.78511471e-01, 8.83980095e-03, 5.06482244e-01, 3.06166530e-01],\n",
       "       [7.64572235e-07, 8.74723494e-01, 3.91148869e-03, 1.21364184e-01],\n",
       "       [4.05185819e-01, 1.33964187e-02, 4.59958136e-01, 1.21459529e-01],\n",
       "       [3.88324797e-01, 5.09947957e-03, 4.06311721e-01, 2.00264037e-01],\n",
       "       [3.62160965e-04, 7.34006462e-04, 4.18227524e-01, 5.80676317e-01],\n",
       "       [7.34115531e-07, 1.79631397e-01, 1.48276985e-01, 6.72090888e-01],\n",
       "       [1.04229002e-06, 8.86810958e-01, 5.59643982e-03, 1.07591607e-01],\n",
       "       [7.44606435e-01, 4.35657427e-02, 1.24128014e-01, 8.76997486e-02],\n",
       "       [5.24765924e-02, 2.63151687e-05, 9.27685559e-01, 1.98114850e-02],\n",
       "       [1.30038563e-04, 1.33157580e-03, 5.60506403e-01, 4.38032031e-01],\n",
       "       [5.39335907e-02, 4.68200829e-04, 8.02091956e-01, 1.43506289e-01],\n",
       "       [4.70373601e-01, 8.10593087e-03, 3.94285768e-01, 1.27234697e-01],\n",
       "       [2.09600870e-07, 1.69204362e-02, 2.07057502e-02, 9.62373674e-01],\n",
       "       [1.55450985e-01, 2.74042948e-04, 7.88826168e-01, 5.54488078e-02],\n",
       "       [3.28412056e-02, 1.59060928e-05, 9.45437193e-01, 2.17057187e-02],\n",
       "       [4.70345927e-04, 6.06939648e-06, 7.88082838e-01, 2.11440727e-01],\n",
       "       [6.30329072e-01, 8.62405822e-02, 1.53435796e-01, 1.29994571e-01],\n",
       "       [1.44026499e-05, 6.74443504e-15, 9.99984384e-01, 1.18129140e-06],\n",
       "       [1.48096634e-03, 1.07951477e-04, 7.74251878e-01, 2.24159226e-01],\n",
       "       [1.20292883e-04, 1.18626913e-05, 8.72582614e-01, 1.27285287e-01],\n",
       "       [1.53247165e-05, 9.53004301e-01, 5.04256040e-03, 4.19378392e-02],\n",
       "       [1.35588765e-04, 8.62254547e-06, 9.13548231e-01, 8.63075703e-02],\n",
       "       [1.86843604e-01, 1.53852650e-03, 7.58740246e-01, 5.28776385e-02],\n",
       "       [1.84414035e-03, 4.50483669e-04, 7.25175560e-01, 2.72529870e-01],\n",
       "       [3.27709713e-04, 4.77595359e-01, 1.24459043e-02, 5.09631097e-01],\n",
       "       [1.28126552e-03, 1.60135068e-02, 5.53884327e-01, 4.28820848e-01],\n",
       "       [4.94537026e-01, 2.48566531e-02, 3.36480200e-01, 1.44126073e-01],\n",
       "       [7.00807789e-07, 2.65999464e-03, 6.47105634e-01, 3.50233734e-01],\n",
       "       [2.84428970e-04, 1.84936530e-03, 3.47140491e-01, 6.50725842e-01],\n",
       "       [3.07248294e-01, 1.75139809e-04, 6.66824460e-01, 2.57520564e-02],\n",
       "       [4.35901821e-01, 4.29638028e-02, 1.93942517e-01, 3.27191830e-01],\n",
       "       [3.86643857e-01, 1.20969453e-04, 4.14268285e-01, 1.98966905e-01],\n",
       "       [1.14060322e-05, 1.06585550e-03, 2.82366931e-01, 7.16555774e-01],\n",
       "       [1.60770029e-01, 9.81496305e-06, 8.31071734e-01, 8.14839173e-03],\n",
       "       [5.14455199e-01, 5.59012219e-02, 2.78727412e-01, 1.50916129e-01],\n",
       "       [2.90351314e-03, 9.10180063e-07, 9.93701577e-01, 3.39402165e-03],\n",
       "       [3.84533450e-06, 2.23083189e-04, 7.05319047e-01, 2.94453979e-01],\n",
       "       [1.10959969e-02, 5.35412873e-05, 6.84479713e-01, 3.04370761e-01],\n",
       "       [2.59332836e-07, 9.77148056e-01, 1.13418035e-03, 2.17175074e-02],\n",
       "       [6.30151212e-01, 2.03599464e-02, 2.41988853e-01, 1.07500046e-01],\n",
       "       [1.22558617e-03, 5.45768489e-06, 9.33806002e-01, 6.49629086e-02],\n",
       "       [5.35545332e-05, 9.32652116e-01, 6.15653058e-04, 6.66786432e-02],\n",
       "       [4.29544511e-04, 3.58191784e-04, 6.05931401e-01, 3.93280834e-01],\n",
       "       [3.19604543e-09, 7.95571327e-01, 6.84809312e-03, 1.97580621e-01],\n",
       "       [6.36221349e-01, 7.91224092e-02, 1.57911435e-01, 1.26744837e-01],\n",
       "       [3.95470241e-04, 1.47143933e-08, 9.95914638e-01, 3.68988840e-03]],\n",
       "      dtype=float32)"
      ]
     },
     "execution_count": 78,
     "metadata": {},
     "output_type": "execute_result"
    }
   ],
   "source": [
    "Y_pred"
   ]
  },
  {
   "cell_type": "code",
   "execution_count": 45,
   "metadata": {},
   "outputs": [
    {
     "name": "stdout",
     "output_type": "stream",
     "text": [
      "Confusion Matrix\n",
      "[[ 2  1  6  5]\n",
      " [ 0  1  4  2]\n",
      " [ 5  3 17  5]\n",
      " [ 3  3  8  1]]\n"
     ]
    }
   ],
   "source": [
    "print('Confusion Matrix')\n",
    "print(confusion_matrix(validation_generator.classes, y_pred))"
   ]
  },
  {
   "cell_type": "code",
   "execution_count": 43,
   "metadata": {},
   "outputs": [
    {
     "name": "stdout",
     "output_type": "stream",
     "text": [
      "Classification Report\n",
      "              precision    recall  f1-score   support\n",
      "\n",
      "       Autre       0.17      0.14      0.15        14\n",
      "   Organique       0.10      0.14      0.12         7\n",
      "  Recyclable       0.45      0.50      0.48        30\n",
      "       Verre       0.09      0.07      0.08        15\n",
      "\n",
      "    accuracy                           0.29        66\n",
      "   macro avg       0.20      0.21      0.21        66\n",
      "weighted avg       0.27      0.29      0.28        66\n",
      "\n"
     ]
    }
   ],
   "source": [
    "print('Classification Report')\n",
    "target_names = ['Autre', 'Organique', 'Recyclable', 'Verre']\n",
    "print(classification_report(validation_generator.classes, y_pred, target_names=target_names))"
   ]
  },
  {
   "cell_type": "markdown",
   "metadata": {},
   "source": [
    "Pistes d'améliorations rapides:\n",
    "- contrer le déséquilibre des classes (https://medium.com/analytics-vidhya/how-to-apply-data-augmentation-to-deal-with-unbalanced-datasets-in-20-lines-of-code-ada8521320c9)\n",
    "- utiliser du transfer learning pour commencer avec un modèle plus robuste et déjà entrainé (DenseNet, ResNet, VGG16, EfficientNet)\n",
    "- équilibrer le dataset en rajoutant/retirant des images"
   ]
  },
  {
   "cell_type": "code",
   "execution_count": 123,
   "metadata": {},
   "outputs": [],
   "source": [
    "model_DN121 = tf.keras.Sequential([tf.keras.applications.MobileNetV2(weights='imagenet',\n",
    "                                                                     input_shape=(120, 120, 3),\n",
    "                                                                     include_top=False,\n",
    "                                                                     pooling='max'\n",
    "                                                                    ),\n",
    "                                 tf.keras.layers.Dense(4, activation='softmax')])"
   ]
  },
  {
   "cell_type": "code",
   "execution_count": 124,
   "metadata": {},
   "outputs": [],
   "source": [
    "model_DN121.compile(loss = 'categorical_crossentropy', optimizer='adam', metrics=['accuracy'])"
   ]
  },
  {
   "cell_type": "code",
   "execution_count": 125,
   "metadata": {},
   "outputs": [],
   "source": [
    "def build_lrfn(lr_start=0.00001, lr_max=0.00005, \n",
    "               lr_min=0.00001, lr_rampup_epochs=3, \n",
    "               lr_sustain_epochs=0, lr_exp_decay=.8):\n",
    "    def lrfn(epoch):\n",
    "        if epoch < lr_rampup_epochs:\n",
    "            lr = (lr_max - lr_start) / lr_rampup_epochs * epoch + lr_start\n",
    "        elif epoch < lr_rampup_epochs + lr_sustain_epochs:\n",
    "            lr = lr_max\n",
    "        else:\n",
    "            lr = (lr_max - lr_min) *\\\n",
    "                 lr_exp_decay**(epoch - lr_rampup_epochs\\\n",
    "                                - lr_sustain_epochs) + lr_min\n",
    "        return lr\n",
    "    return lrfn\n",
    "\n",
    "lr_schedule = tf.keras.callbacks.LearningRateScheduler(build_lrfn(), verbose=1)"
   ]
  },
  {
   "cell_type": "code",
   "execution_count": 127,
   "metadata": {},
   "outputs": [
    {
     "name": "stdout",
     "output_type": "stream",
     "text": [
      "WARNING:tensorflow:sample_weight modes were coerced from\n",
      "  ...\n",
      "    to  \n",
      "  ['...']\n",
      "WARNING:tensorflow:sample_weight modes were coerced from\n",
      "  ...\n",
      "    to  \n",
      "  ['...']\n",
      "Train for 24 steps, validate for 4 steps\n",
      "\n",
      "Epoch 00001: LearningRateScheduler reducing learning rate to 1e-05.\n",
      "Epoch 1/15\n",
      "24/24 [==============================] - 63s 3s/step - loss: 4.2799 - accuracy: 0.2135 - val_loss: 4.8999 - val_accuracy: 0.1562\n",
      "\n",
      "Epoch 00002: LearningRateScheduler reducing learning rate to 2.3333333333333336e-05.\n",
      "Epoch 2/15\n",
      "24/24 [==============================] - 13s 538ms/step - loss: 2.7172 - accuracy: 0.3594 - val_loss: 4.8779 - val_accuracy: 0.1094\n",
      "\n",
      "Epoch 00003: LearningRateScheduler reducing learning rate to 3.666666666666667e-05.\n",
      "Epoch 3/15\n",
      "24/24 [==============================] - 13s 542ms/step - loss: 1.6043 - accuracy: 0.5365 - val_loss: 5.5854 - val_accuracy: 0.1562\n",
      "\n",
      "Epoch 00004: LearningRateScheduler reducing learning rate to 5e-05.\n",
      "Epoch 4/15\n",
      "24/24 [==============================] - 32s 1s/step - loss: 1.1172 - accuracy: 0.6745 - val_loss: 5.7092 - val_accuracy: 0.0938\n",
      "\n",
      "Epoch 00005: LearningRateScheduler reducing learning rate to 4.2000000000000004e-05.\n",
      "Epoch 5/15\n",
      "24/24 [==============================] - 68s 3s/step - loss: 0.9428 - accuracy: 0.7422 - val_loss: 6.1232 - val_accuracy: 0.1094\n",
      "\n",
      "Epoch 00006: LearningRateScheduler reducing learning rate to 3.5600000000000005e-05.\n",
      "Epoch 6/15\n",
      "24/24 [==============================] - 73s 3s/step - loss: 0.9247 - accuracy: 0.7448 - val_loss: 5.5001 - val_accuracy: 0.1562\n",
      "\n",
      "Epoch 00007: LearningRateScheduler reducing learning rate to 3.0480000000000006e-05.\n",
      "Epoch 7/15\n",
      "24/24 [==============================] - 65s 3s/step - loss: 0.8016 - accuracy: 0.7500 - val_loss: 5.9128 - val_accuracy: 0.1250\n",
      "\n",
      "Epoch 00008: LearningRateScheduler reducing learning rate to 2.6384000000000004e-05.\n",
      "Epoch 8/15\n",
      "24/24 [==============================] - 33s 1s/step - loss: 0.7232 - accuracy: 0.7786 - val_loss: 5.9891 - val_accuracy: 0.0781\n",
      "\n",
      "Epoch 00009: LearningRateScheduler reducing learning rate to 2.3107200000000005e-05.\n",
      "Epoch 9/15\n",
      "24/24 [==============================] - 13s 529ms/step - loss: 0.6199 - accuracy: 0.7943 - val_loss: 6.1687 - val_accuracy: 0.0938\n",
      "\n",
      "Epoch 00010: LearningRateScheduler reducing learning rate to 2.0485760000000004e-05.\n",
      "Epoch 10/15\n",
      "24/24 [==============================] - 13s 529ms/step - loss: 0.6221 - accuracy: 0.8359 - val_loss: 6.1342 - val_accuracy: 0.0781\n",
      "\n",
      "Epoch 00011: LearningRateScheduler reducing learning rate to 1.8388608000000004e-05.\n",
      "Epoch 11/15\n",
      "24/24 [==============================] - 19s 778ms/step - loss: 0.5648 - accuracy: 0.8307 - val_loss: 6.6213 - val_accuracy: 0.0781\n",
      "\n",
      "Epoch 00012: LearningRateScheduler reducing learning rate to 1.6710886400000004e-05.\n",
      "Epoch 12/15\n",
      "24/24 [==============================] - 62s 3s/step - loss: 0.4770 - accuracy: 0.8411 - val_loss: 6.5684 - val_accuracy: 0.0938\n",
      "\n",
      "Epoch 00013: LearningRateScheduler reducing learning rate to 1.5368709120000003e-05.\n",
      "Epoch 13/15\n",
      "24/24 [==============================] - 62s 3s/step - loss: 0.5005 - accuracy: 0.8490 - val_loss: 6.0486 - val_accuracy: 0.0781\n",
      "\n",
      "Epoch 00014: LearningRateScheduler reducing learning rate to 1.4294967296000005e-05.\n",
      "Epoch 14/15\n",
      "24/24 [==============================] - 68s 3s/step - loss: 0.4598 - accuracy: 0.8359 - val_loss: 6.5345 - val_accuracy: 0.0781\n",
      "\n",
      "Epoch 00015: LearningRateScheduler reducing learning rate to 1.3435973836800004e-05.\n",
      "Epoch 15/15\n",
      "24/24 [==============================] - 57s 2s/step - loss: 0.4804 - accuracy: 0.8490 - val_loss: 6.6924 - val_accuracy: 0.0781\n",
      "CPU times: user 13min 58s, sys: 16.4 s, total: 14min 14s\n",
      "Wall time: 10min 55s\n"
     ]
    }
   ],
   "source": [
    "%%time\n",
    "history = model_DN121.fit_generator(\n",
    "    train_generator,\n",
    "    epochs=15,\n",
    "    steps_per_epoch=train_generator.samples // 16,\n",
    "    validation_data=validation_generator, \n",
    "    validation_steps=validation_generator.samples // 16,\n",
    "    callbacks=[lr_schedule],\n",
    ")"
   ]
  },
  {
   "cell_type": "code",
   "execution_count": 20,
   "metadata": {},
   "outputs": [],
   "source": [
    "model_DN121.save(\"cycle_classifier_DN121.h5\")"
   ]
  },
  {
   "cell_type": "code",
   "execution_count": null,
   "metadata": {},
   "outputs": [],
   "source": [
    "%matplotlib inline\n",
    "\n",
    "import matplotlib.pyplot as plt\n",
    "\n",
    "#-----------------------------------------------------------\n",
    "# Retrieve a list of list results on training and test data\n",
    "# sets for each training epoch\n",
    "#-----------------------------------------------------------\n",
    "acc      = history.history['accuracy']\n",
    "val_acc  = history.history['val_accuracy']\n",
    "loss     = history.history['loss']\n",
    "val_loss = history.history['val_loss']\n",
    "\n",
    "epochs   = range(len(acc)) # Get number of epochs\n",
    "\n",
    "#------------------------------------------------\n",
    "# Plot training and validation accuracy per epoch\n",
    "#------------------------------------------------\n",
    "plt.plot(epochs, acc)\n",
    "plt.plot(epochs, val_acc)\n",
    "plt.title('Training and validation accuracy')\n",
    "plt.figure()\n",
    "\n",
    "#------------------------------------------------\n",
    "# Plot training and validation loss per epoch\n",
    "#------------------------------------------------\n",
    "plt.plot(epochs, loss)\n",
    "plt.plot(epochs, val_loss)\n",
    "plt.title('Training and validation loss')"
   ]
  },
  {
   "cell_type": "code",
   "execution_count": 23,
   "metadata": {},
   "outputs": [
    {
     "name": "stdout",
     "output_type": "stream",
     "text": [
      "Confusion Matrix\n",
      "[[2 2 4 2]\n",
      " [0 1 2 2]\n",
      " [6 1 6 7]\n",
      " [4 1 4 1]]\n",
      "Classification Report\n",
      "              precision    recall  f1-score   support\n",
      "\n",
      "       Autre       0.17      0.20      0.18        10\n",
      "   Organique       0.20      0.20      0.20         5\n",
      "  Recyclable       0.38      0.30      0.33        20\n",
      "       Verre       0.08      0.10      0.09        10\n",
      "\n",
      "    accuracy                           0.22        45\n",
      "   macro avg       0.21      0.20      0.20        45\n",
      "weighted avg       0.24      0.22      0.23        45\n",
      "\n"
     ]
    }
   ],
   "source": [
    "from sklearn.metrics import classification_report, confusion_matrix\n",
    "import numpy as np\n",
    "\n",
    "Y_pred = model_DN121.predict_generator(validation_generator, validation_generator.samples // 16+1)\n",
    "y_pred = np.argmax(Y_pred, axis=1)\n",
    "\n",
    "print('Confusion Matrix')\n",
    "print(confusion_matrix(validation_generator.classes, y_pred))\n",
    "\n",
    "print('Classification Report')\n",
    "target_names = ['Autre', 'Organique', 'Recyclable', 'Verre']\n",
    "print(classification_report(validation_generator.classes, y_pred, target_names=target_names))"
   ]
  },
  {
   "cell_type": "code",
   "execution_count": 98,
   "metadata": {},
   "outputs": [],
   "source": [
    "model = tf.keras.models.load_model(\"cycle_classifier_proto_2.h5\")"
   ]
  },
  {
   "cell_type": "code",
   "execution_count": 99,
   "metadata": {},
   "outputs": [
    {
     "data": {
      "text/plain": [
       "7608048"
      ]
     },
     "execution_count": 99,
     "metadata": {},
     "output_type": "execute_result"
    }
   ],
   "source": [
    "converter = tf.lite.TFLiteConverter.from_keras_model(model)\n",
    "tflite_model = converter.convert()\n",
    "open(\"converted_model.tflite\", \"wb\").write(tflite_model)"
   ]
  },
  {
   "cell_type": "code",
   "execution_count": 25,
   "metadata": {},
   "outputs": [],
   "source": [
    "from PIL import Image\n",
    "import tensorflow as tf\n",
    "import numpy as np"
   ]
  },
  {
   "cell_type": "code",
   "execution_count": 26,
   "metadata": {},
   "outputs": [],
   "source": [
    "interpreter = tf.lite.Interpreter(model_path=\"converted_model.tflite\")\n",
    "interpreter.allocate_tensors()"
   ]
  },
  {
   "cell_type": "code",
   "execution_count": 27,
   "metadata": {},
   "outputs": [],
   "source": [
    "im = Image.open('../dataset/verre/biere_25.jpg')\n",
    "im_resized = im.resize((120, 120))\n",
    "#arr = tf.keras.preprocessing.image.img_to_array(im_resized)\n",
    "data = list(im_resized.getdata())\n",
    "arr = np.asarray(data, dtype=\"float32\") \n",
    "arr = np.reshape(arr, (1, 120, 120 , 3))"
   ]
  },
  {
   "cell_type": "code",
   "execution_count": 28,
   "metadata": {},
   "outputs": [],
   "source": [
    "# Get input and output tensors.\n",
    "input_details = interpreter.get_input_details()\n",
    "output_details = interpreter.get_output_details()\n",
    "\n",
    "input_data = arr\n",
    "interpreter.set_tensor(input_details[0]['index'], input_data)\n",
    "\n",
    "interpreter.invoke()\n",
    "tflite_results = interpreter.get_tensor(output_details[0]['index'])"
   ]
  },
  {
   "cell_type": "code",
   "execution_count": 29,
   "metadata": {},
   "outputs": [
    {
     "data": {
      "text/plain": [
       "array([[0., 0., 1., 0.]], dtype=float32)"
      ]
     },
     "execution_count": 29,
     "metadata": {},
     "output_type": "execute_result"
    }
   ],
   "source": [
    "tflite_results"
   ]
  },
  {
   "cell_type": "code",
   "execution_count": 117,
   "metadata": {},
   "outputs": [
    {
     "data": {
      "text/plain": [
       "array([[0., 0., 1., 0.]], dtype=float32)"
      ]
     },
     "execution_count": 117,
     "metadata": {},
     "output_type": "execute_result"
    }
   ],
   "source": [
    "model.predict(arr)"
   ]
  },
  {
   "cell_type": "code",
   "execution_count": null,
   "metadata": {},
   "outputs": [],
   "source": []
  }
 ],
 "metadata": {
  "kernelspec": {
   "display_name": "Python 3.7.0 64-bit ('kaggle': conda)",
   "language": "python",
   "name": "python37064bitkagglecondaa588dc233ac1401e9a87fa639ab5fca2"
  },
  "language_info": {
   "codemirror_mode": {
    "name": "ipython",
    "version": 3
   },
   "file_extension": ".py",
   "mimetype": "text/x-python",
   "name": "python",
   "nbconvert_exporter": "python",
   "pygments_lexer": "ipython3",
   "version": "3.7.0"
  }
 },
 "nbformat": 4,
 "nbformat_minor": 4
}
