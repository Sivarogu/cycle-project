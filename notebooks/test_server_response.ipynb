{
 "cells": [
  {
   "cell_type": "code",
   "execution_count": 6,
   "metadata": {},
   "outputs": [],
   "source": [
    "import requests"
   ]
  },
  {
   "cell_type": "code",
   "execution_count": 12,
   "metadata": {},
   "outputs": [],
   "source": [
    "requests.get(\"http://ec2-34-254-248-190.eu-west-1.compute.amazonaws.com:80/ping\")"
   ]
  },
  {
   "cell_type": "code",
   "execution_count": 7,
   "metadata": {},
   "outputs": [
    {
     "name": "stdout",
     "output_type": "stream",
     "text": [
      "200\n"
     ]
    }
   ],
   "source": [
    "with open('../notebooks/test_tic_tac.png', 'rb') as img:\n",
    "    image = {'image': img}\n",
    "    with requests.Session() as s:\n",
    "        url = \"http://ec2-34-254-248-190.eu-west-1.compute.amazonaws.com:80/image/new?category=recyclable\"\n",
    "        r = s.post(url,files=image)\n",
    "        print(r.status_code)"
   ]
  },
  {
   "cell_type": "code",
   "execution_count": 24,
   "metadata": {},
   "outputs": [
    {
     "name": "stdout",
     "output_type": "stream",
     "text": [
      "<Response [200]>\n"
     ]
    }
   ],
   "source": [
    "import requests\n",
    "\n",
    "def get_model_to(path):\n",
    "    r = requests.get(\"http://ec2-34-254-248-190.eu-west-1.compute.amazonaws.com:80/model/current\")\n",
    "    print(r)\n",
    "    if r.status_code == 200:\n",
    "        open('model.tflite', 'wb').write(r.content)\n",
    "        \n"
   ]
  }
 ],
 "metadata": {
  "kernelspec": {
   "display_name": "Python 3.7.0 64-bit ('kaggle': conda)",
   "language": "python",
   "name": "python37064bitkagglecondaa588dc233ac1401e9a87fa639ab5fca2"
  },
  "language_info": {
   "codemirror_mode": {
    "name": "ipython",
    "version": 3
   },
   "file_extension": ".py",
   "mimetype": "text/x-python",
   "name": "python",
   "nbconvert_exporter": "python",
   "pygments_lexer": "ipython3",
   "version": "3.7.0"
  }
 },
 "nbformat": 4,
 "nbformat_minor": 4
}
